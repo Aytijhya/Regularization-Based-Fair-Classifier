{
 "cells": [
  {
   "cell_type": "markdown",
   "id": "cc719301",
   "metadata": {},
   "source": [
    "## VARIOUS DEFINITIONS OF FAIRNESS COMPARED"
   ]
  },
  {
   "cell_type": "markdown",
   "id": "bad5178c",
   "metadata": {},
   "source": [
    "Here we will compare the aspects of the different definitions of Fairness on the [Adult Dataset](https://archive.ics.uci.edu/ml/datasets/adult).  "
   ]
  },
  {
   "cell_type": "markdown",
   "id": "b8201de1",
   "metadata": {},
   "source": [
    "### IMPORTING THE NECESSARY LIBRARIES"
   ]
  },
  {
   "cell_type": "markdown",
   "id": "fae3b122",
   "metadata": {},
   "source": [
    "We will be using the open-source [AIF360](https://github.com/Trusted-AI/AIF360) package."
   ]
  },
  {
   "cell_type": "code",
   "execution_count": 1,
   "id": "dcd9aae8",
   "metadata": {},
   "outputs": [],
   "source": [
    "import numpy as np\n",
    "np.set_printoptions(suppress = True)\n",
    "\n",
    "import matplotlib.pyplot as plt\n",
    "\n",
    "# Importing the Dataset\n",
    "from aif360.datasets import AdultDataset\n",
    "from aif360.algorithms.preprocessing.optim_preproc_helpers.data_preproc_functions import load_preproc_data_adult\n",
    "\n",
    "from aif360.datasets import BinaryLabelDataset\n",
    "from aif360.metrics import BinaryLabelDatasetMetric, ClassificationMetric\n",
    "\n",
    "from aif360.metrics.utils import compute_boolean_conditioning_vector\n",
    "from common_utils import compute_metrics\n",
    "\n",
    "from sklearn.linear_model import LogisticRegression\n",
    "from sklearn.preprocessing import StandardScaler\n",
    "from sklearn.model_selection import train_test_split"
   ]
  },
  {
   "cell_type": "markdown",
   "id": "a1a22b9c",
   "metadata": {},
   "source": [
    "### DATASET"
   ]
  },
  {
   "cell_type": "markdown",
   "id": "e257cd3f",
   "metadata": {},
   "source": [
    "The following shows the raw data."
   ]
  },
  {
   "cell_type": "code",
   "execution_count": 8,
   "id": "074ce56f",
   "metadata": {},
   "outputs": [
    {
     "name": "stderr",
     "output_type": "stream",
     "text": [
      "WARNING:root:Missing Data: 3620 rows removed from AdultDataset.\n"
     ]
    },
    {
     "data": {
      "text/plain": [
       "               instance weights features                                    \\\n",
       "                                                       protected attribute   \n",
       "                                     age education-num                race   \n",
       "instance names                                                               \n",
       "0                           1.0     25.0           7.0                 0.0   \n",
       "1                           1.0     38.0           9.0                 1.0   \n",
       "2                           1.0     28.0          12.0                 1.0   \n",
       "3                           1.0     44.0          10.0                 0.0   \n",
       "5                           1.0     34.0           6.0                 1.0   \n",
       "...                         ...      ...           ...                 ...   \n",
       "48837                       1.0     27.0          12.0                 1.0   \n",
       "48838                       1.0     40.0           9.0                 1.0   \n",
       "48839                       1.0     58.0           9.0                 1.0   \n",
       "48840                       1.0     22.0           9.0                 1.0   \n",
       "48841                       1.0     52.0           9.0                 1.0   \n",
       "\n",
       "                                                              \\\n",
       "                                                               \n",
       "                sex capital-gain capital-loss hours-per-week   \n",
       "instance names                                                 \n",
       "0               1.0          0.0          0.0           40.0   \n",
       "1               1.0          0.0          0.0           50.0   \n",
       "2               1.0          0.0          0.0           40.0   \n",
       "3               1.0       7688.0          0.0           40.0   \n",
       "5               1.0          0.0          0.0           30.0   \n",
       "...             ...          ...          ...            ...   \n",
       "48837           0.0          0.0          0.0           38.0   \n",
       "48838           1.0          0.0          0.0           40.0   \n",
       "48839           0.0          0.0          0.0           40.0   \n",
       "48840           1.0          0.0          0.0           20.0   \n",
       "48841           0.0      15024.0          0.0           40.0   \n",
       "\n",
       "                                                          ...  \\\n",
       "                                                          ...   \n",
       "               workclass=Federal-gov workclass=Local-gov  ...   \n",
       "instance names                                            ...   \n",
       "0                                0.0                 0.0  ...   \n",
       "1                                0.0                 0.0  ...   \n",
       "2                                0.0                 1.0  ...   \n",
       "3                                0.0                 0.0  ...   \n",
       "5                                0.0                 0.0  ...   \n",
       "...                              ...                 ...  ...   \n",
       "48837                            0.0                 0.0  ...   \n",
       "48838                            0.0                 0.0  ...   \n",
       "48839                            0.0                 0.0  ...   \n",
       "48840                            0.0                 0.0  ...   \n",
       "48841                            0.0                 0.0  ...   \n",
       "\n",
       "                                                                   \\\n",
       "                                                                    \n",
       "               native-country=Puerto-Rico native-country=Scotland   \n",
       "instance names                                                      \n",
       "0                                     0.0                     0.0   \n",
       "1                                     0.0                     0.0   \n",
       "2                                     0.0                     0.0   \n",
       "3                                     0.0                     0.0   \n",
       "5                                     0.0                     0.0   \n",
       "...                                   ...                     ...   \n",
       "48837                                 0.0                     0.0   \n",
       "48838                                 0.0                     0.0   \n",
       "48839                                 0.0                     0.0   \n",
       "48840                                 0.0                     0.0   \n",
       "48841                                 0.0                     0.0   \n",
       "\n",
       "                                                           \\\n",
       "                                                            \n",
       "               native-country=South native-country=Taiwan   \n",
       "instance names                                              \n",
       "0                               0.0                   0.0   \n",
       "1                               0.0                   0.0   \n",
       "2                               0.0                   0.0   \n",
       "3                               0.0                   0.0   \n",
       "5                               0.0                   0.0   \n",
       "...                             ...                   ...   \n",
       "48837                           0.0                   0.0   \n",
       "48838                           0.0                   0.0   \n",
       "48839                           0.0                   0.0   \n",
       "48840                           0.0                   0.0   \n",
       "48841                           0.0                   0.0   \n",
       "\n",
       "                                                                       \\\n",
       "                                                                        \n",
       "               native-country=Thailand native-country=Trinadad&Tobago   \n",
       "instance names                                                          \n",
       "0                                  0.0                            0.0   \n",
       "1                                  0.0                            0.0   \n",
       "2                                  0.0                            0.0   \n",
       "3                                  0.0                            0.0   \n",
       "5                                  0.0                            0.0   \n",
       "...                                ...                            ...   \n",
       "48837                              0.0                            0.0   \n",
       "48838                              0.0                            0.0   \n",
       "48839                              0.0                            0.0   \n",
       "48840                              0.0                            0.0   \n",
       "48841                              0.0                            0.0   \n",
       "\n",
       "                                                                    \\\n",
       "                                                                     \n",
       "               native-country=United-States native-country=Vietnam   \n",
       "instance names                                                       \n",
       "0                                       1.0                    0.0   \n",
       "1                                       1.0                    0.0   \n",
       "2                                       1.0                    0.0   \n",
       "3                                       1.0                    0.0   \n",
       "5                                       1.0                    0.0   \n",
       "...                                     ...                    ...   \n",
       "48837                                   1.0                    0.0   \n",
       "48838                                   1.0                    0.0   \n",
       "48839                                   1.0                    0.0   \n",
       "48840                                   1.0                    0.0   \n",
       "48841                                   1.0                    0.0   \n",
       "\n",
       "                                         labels  \n",
       "                                                 \n",
       "               native-country=Yugoslavia         \n",
       "instance names                                   \n",
       "0                                    0.0    0.0  \n",
       "1                                    0.0    0.0  \n",
       "2                                    0.0    1.0  \n",
       "3                                    0.0    1.0  \n",
       "5                                    0.0    0.0  \n",
       "...                                  ...    ...  \n",
       "48837                                0.0    0.0  \n",
       "48838                                0.0    1.0  \n",
       "48839                                0.0    0.0  \n",
       "48840                                0.0    0.0  \n",
       "48841                                0.0    1.0  \n",
       "\n",
       "[45222 rows x 100 columns]"
      ]
     },
     "execution_count": 8,
     "metadata": {},
     "output_type": "execute_result"
    }
   ],
   "source": [
    "data_adult = AdultDataset()\n",
    "data_adult"
   ]
  },
  {
   "cell_type": "code",
   "execution_count": 9,
   "id": "2ec5ff4b",
   "metadata": {},
   "outputs": [
    {
     "name": "stdout",
     "output_type": "stream",
     "text": [
      "['age', 'education-num', 'race', 'sex', 'capital-gain', 'capital-loss', 'hours-per-week', 'workclass=Federal-gov', 'workclass=Local-gov', 'workclass=Private', 'workclass=Self-emp-inc', 'workclass=Self-emp-not-inc', 'workclass=State-gov', 'workclass=Without-pay', 'education=10th', 'education=11th', 'education=12th', 'education=1st-4th', 'education=5th-6th', 'education=7th-8th', 'education=9th', 'education=Assoc-acdm', 'education=Assoc-voc', 'education=Bachelors', 'education=Doctorate', 'education=HS-grad', 'education=Masters', 'education=Preschool', 'education=Prof-school', 'education=Some-college', 'marital-status=Divorced', 'marital-status=Married-AF-spouse', 'marital-status=Married-civ-spouse', 'marital-status=Married-spouse-absent', 'marital-status=Never-married', 'marital-status=Separated', 'marital-status=Widowed', 'occupation=Adm-clerical', 'occupation=Armed-Forces', 'occupation=Craft-repair', 'occupation=Exec-managerial', 'occupation=Farming-fishing', 'occupation=Handlers-cleaners', 'occupation=Machine-op-inspct', 'occupation=Other-service', 'occupation=Priv-house-serv', 'occupation=Prof-specialty', 'occupation=Protective-serv', 'occupation=Sales', 'occupation=Tech-support', 'occupation=Transport-moving', 'relationship=Husband', 'relationship=Not-in-family', 'relationship=Other-relative', 'relationship=Own-child', 'relationship=Unmarried', 'relationship=Wife', 'native-country=Cambodia', 'native-country=Canada', 'native-country=China', 'native-country=Columbia', 'native-country=Cuba', 'native-country=Dominican-Republic', 'native-country=Ecuador', 'native-country=El-Salvador', 'native-country=England', 'native-country=France', 'native-country=Germany', 'native-country=Greece', 'native-country=Guatemala', 'native-country=Haiti', 'native-country=Holand-Netherlands', 'native-country=Honduras', 'native-country=Hong', 'native-country=Hungary', 'native-country=India', 'native-country=Iran', 'native-country=Ireland', 'native-country=Italy', 'native-country=Jamaica', 'native-country=Japan', 'native-country=Laos', 'native-country=Mexico', 'native-country=Nicaragua', 'native-country=Outlying-US(Guam-USVI-etc)', 'native-country=Peru', 'native-country=Philippines', 'native-country=Poland', 'native-country=Portugal', 'native-country=Puerto-Rico', 'native-country=Scotland', 'native-country=South', 'native-country=Taiwan', 'native-country=Thailand', 'native-country=Trinadad&Tobago', 'native-country=United-States', 'native-country=Vietnam', 'native-country=Yugoslavia']\n"
     ]
    }
   ],
   "source": [
    "print(data_adult.feature_names, sep=\",\")"
   ]
  },
  {
   "cell_type": "markdown",
   "id": "3cf52071",
   "metadata": {},
   "source": [
    "The above data is not the preprocessed or cleaned data. There are 100 features! AIF360 presents us with a function that loads the cleaned version of the Adult dataset and it is much better to handle it."
   ]
  },
  {
   "cell_type": "code",
   "execution_count": 10,
   "id": "59e76efa",
   "metadata": {},
   "outputs": [],
   "source": [
    "priv_group = [{'sex':1}]\n",
    "unpriv_group = [{'sex':0}]"
   ]
  },
  {
   "cell_type": "markdown",
   "id": "61829850",
   "metadata": {},
   "source": [
    "We will address the problem of fairness for gender here. So, we choose the protected group as sex with the males indicated by 1 as the privileged group and the females indicated by 0 as the unprivileged group as shown above."
   ]
  },
  {
   "cell_type": "code",
   "execution_count": 11,
   "id": "ecb4b423",
   "metadata": {},
   "outputs": [
    {
     "data": {
      "text/plain": [
       "               instance weights features                                      \\\n",
       "                                         protected attribute                   \n",
       "                                    race                 sex Age (decade)=10   \n",
       "instance names                                                                 \n",
       "0                           1.0      0.0                 1.0             0.0   \n",
       "1                           1.0      1.0                 1.0             0.0   \n",
       "2                           1.0      1.0                 1.0             0.0   \n",
       "3                           1.0      0.0                 1.0             0.0   \n",
       "4                           1.0      1.0                 0.0             1.0   \n",
       "...                         ...      ...                 ...             ...   \n",
       "48837                       1.0      1.0                 0.0             0.0   \n",
       "48838                       1.0      1.0                 1.0             0.0   \n",
       "48839                       1.0      1.0                 0.0             0.0   \n",
       "48840                       1.0      1.0                 1.0             0.0   \n",
       "48841                       1.0      1.0                 0.0             0.0   \n",
       "\n",
       "                                                                \\\n",
       "                                                                 \n",
       "               Age (decade)=20 Age (decade)=30 Age (decade)=40   \n",
       "instance names                                                   \n",
       "0                          1.0             0.0             0.0   \n",
       "1                          0.0             1.0             0.0   \n",
       "2                          1.0             0.0             0.0   \n",
       "3                          0.0             0.0             1.0   \n",
       "4                          0.0             0.0             0.0   \n",
       "...                        ...             ...             ...   \n",
       "48837                      1.0             0.0             0.0   \n",
       "48838                      0.0             0.0             1.0   \n",
       "48839                      0.0             0.0             0.0   \n",
       "48840                      1.0             0.0             0.0   \n",
       "48841                      0.0             0.0             0.0   \n",
       "\n",
       "                                                                  \\\n",
       "                                                                   \n",
       "               Age (decade)=50 Age (decade)=60 Age (decade)=>=70   \n",
       "instance names                                                     \n",
       "0                          0.0             0.0               0.0   \n",
       "1                          0.0             0.0               0.0   \n",
       "2                          0.0             0.0               0.0   \n",
       "3                          0.0             0.0               0.0   \n",
       "4                          0.0             0.0               0.0   \n",
       "...                        ...             ...               ...   \n",
       "48837                      0.0             0.0               0.0   \n",
       "48838                      0.0             0.0               0.0   \n",
       "48839                      1.0             0.0               0.0   \n",
       "48840                      0.0             0.0               0.0   \n",
       "48841                      1.0             0.0               0.0   \n",
       "\n",
       "                                                                      \\\n",
       "                                                                       \n",
       "               Education Years=6 Education Years=7 Education Years=8   \n",
       "instance names                                                         \n",
       "0                            0.0               1.0               0.0   \n",
       "1                            0.0               0.0               0.0   \n",
       "2                            0.0               0.0               0.0   \n",
       "3                            0.0               0.0               0.0   \n",
       "4                            0.0               0.0               0.0   \n",
       "...                          ...               ...               ...   \n",
       "48837                        0.0               0.0               0.0   \n",
       "48838                        0.0               0.0               0.0   \n",
       "48839                        0.0               0.0               0.0   \n",
       "48840                        0.0               0.0               0.0   \n",
       "48841                        0.0               0.0               0.0   \n",
       "\n",
       "                                                                        \\\n",
       "                                                                         \n",
       "               Education Years=9 Education Years=10 Education Years=11   \n",
       "instance names                                                           \n",
       "0                            0.0                0.0                0.0   \n",
       "1                            1.0                0.0                0.0   \n",
       "2                            0.0                0.0                0.0   \n",
       "3                            0.0                1.0                0.0   \n",
       "4                            0.0                1.0                0.0   \n",
       "...                          ...                ...                ...   \n",
       "48837                        0.0                0.0                0.0   \n",
       "48838                        1.0                0.0                0.0   \n",
       "48839                        1.0                0.0                0.0   \n",
       "48840                        1.0                0.0                0.0   \n",
       "48841                        1.0                0.0                0.0   \n",
       "\n",
       "                                                                          \\\n",
       "                                                                           \n",
       "               Education Years=12 Education Years=<6 Education Years=>12   \n",
       "instance names                                                             \n",
       "0                             0.0                0.0                 0.0   \n",
       "1                             0.0                0.0                 0.0   \n",
       "2                             1.0                0.0                 0.0   \n",
       "3                             0.0                0.0                 0.0   \n",
       "4                             0.0                0.0                 0.0   \n",
       "...                           ...                ...                 ...   \n",
       "48837                         1.0                0.0                 0.0   \n",
       "48838                         0.0                0.0                 0.0   \n",
       "48839                         0.0                0.0                 0.0   \n",
       "48840                         0.0                0.0                 0.0   \n",
       "48841                         0.0                0.0                 0.0   \n",
       "\n",
       "               labels  \n",
       "                       \n",
       "                       \n",
       "instance names         \n",
       "0                 0.0  \n",
       "1                 0.0  \n",
       "2                 1.0  \n",
       "3                 1.0  \n",
       "4                 0.0  \n",
       "...               ...  \n",
       "48837             0.0  \n",
       "48838             1.0  \n",
       "48839             0.0  \n",
       "48840             0.0  \n",
       "48841             1.0  \n",
       "\n",
       "[48842 rows x 20 columns]"
      ]
     },
     "execution_count": 11,
     "metadata": {},
     "output_type": "execute_result"
    }
   ],
   "source": [
    "data_adult = load_preproc_data_adult(['sex'])\n",
    "data_adult"
   ]
  },
  {
   "cell_type": "code",
   "execution_count": 12,
   "id": "3a321aa7",
   "metadata": {},
   "outputs": [
    {
     "name": "stdout",
     "output_type": "stream",
     "text": [
      "['race', 'sex', 'Age (decade)=10', 'Age (decade)=20', 'Age (decade)=30', 'Age (decade)=40', 'Age (decade)=50', 'Age (decade)=60', 'Age (decade)=>=70', 'Education Years=6', 'Education Years=7', 'Education Years=8', 'Education Years=9', 'Education Years=10', 'Education Years=11', 'Education Years=12', 'Education Years=<6', 'Education Years=>12']\n"
     ]
    }
   ],
   "source": [
    "print(data_adult.feature_names, sep=\", \")"
   ]
  },
  {
   "cell_type": "markdown",
   "id": "af182ce8",
   "metadata": {},
   "source": [
    "The number of features in this cleaned pre-processed dataset is far less than the number of features in the original dataset. It is more managable."
   ]
  },
  {
   "cell_type": "markdown",
   "id": "202e3cfa",
   "metadata": {},
   "source": [
    "### EVALUATION OF FAIRNESS"
   ]
  },
  {
   "cell_type": "markdown",
   "id": "4c56027a",
   "metadata": {},
   "source": [
    "Here, we will try to find out how fair is the data with respect to the protected group i.e. sex as per the various definitions of fairness."
   ]
  },
  {
   "cell_type": "markdown",
   "id": "8ba214b0",
   "metadata": {},
   "source": [
    "#### CLEANED DATA FAIRNESS"
   ]
  },
  {
   "cell_type": "markdown",
   "id": "99dddc05",
   "metadata": {},
   "source": [
    "We look in the following histogram the proportion of the protected privileged and unprivileged groups proportion along with the class labels. "
   ]
  },
  {
   "cell_type": "code",
   "execution_count": 24,
   "id": "ce84c09a",
   "metadata": {},
   "outputs": [],
   "source": [
    "def plot_prop_prtced_grp_lab(data, title=\"\", figsize=(10,8)):\n",
    "    feature_idx = np.where(np.array(data.feature_names) == data.protected_attribute_names[0])[0][0]\n",
    "    n_p_fav = len(np.where(np.logical_and(data.features[:,feature_idx] == data.privileged_protected_attributes[0],data.labels == data.favorable_label) == True)[0])\n",
    "    n_unp_fav = len(np.where(np.logical_and(data.features[:,feature_idx] == data.unprivileged_protected_attributes[0],data.labels == data.favorable_label) == True)[0])\n",
    "    n_p_unfav = len(np.where(np.logical_and(data.features[:,feature_idx] == data.privileged_protected_attributes[0],data.labels == data.unfavorable_label) == True)[0])\n",
    "    n_unp_unfav = len(np.where(np.logical_and(data.features[:,feature_idx] == data.unprivileged_protected_attributes[0],data.labels == data.unfavorable_label) == True)[0])\n",
    "    plt.figure(figsize=figsize)\n",
    "    plt.bar(['priv grp,fav label','unpriv grp,fav label', 'priv grp,unfav label', 'unpriv grp,unfav label'],\n",
    "           [n_p_fav/(n_p_fav+n_p_unfav), n_unp_fav/(n_unp_fav+n_unp_unfav), n_p_unfav/(n_p_fav+n_p_unfav), n_unp_fav/(n_unp_fav+n_unp_unfav)])\n",
    "    plt.title(title)\n",
    "    plt.show()"
   ]
  },
  {
   "cell_type": "code",
   "execution_count": null,
   "id": "1b080e04",
   "metadata": {},
   "outputs": [],
   "source": [
    "plot_prop_prtced_grp_lab(data_adult)"
   ]
  },
  {
   "cell_type": "code",
   "execution_count": 16,
   "id": "e6dd7e14",
   "metadata": {},
   "outputs": [],
   "source": [
    "ad_metrics = BinaryLabelDatasetMetric(data_adult,\n",
    "                                      unprivileged_groups=unpriv_group,\n",
    "                                     privileged_groups=priv_group)"
   ]
  },
  {
   "cell_type": "code",
   "execution_count": 17,
   "id": "d65c5c87",
   "metadata": {},
   "outputs": [
    {
     "name": "stdout",
     "output_type": "stream",
     "text": [
      "Statistical Parity Difference: -0.19451574596420296\n"
     ]
    }
   ],
   "source": [
    "print(\"Statistical Parity Difference:\",ad_metrics.statistical_parity_difference())"
   ]
  },
  {
   "cell_type": "markdown",
   "id": "64454055",
   "metadata": {},
   "source": [
    "We observe quite a bit of deviation from 0 which is in favor of the male group. Hence, data is not fair as per this definition. "
   ]
  },
  {
   "cell_type": "code",
   "execution_count": 18,
   "id": "da7981f9",
   "metadata": {},
   "outputs": [
    {
     "name": "stdout",
     "output_type": "stream",
     "text": [
      "Disparate Impact: 0.3596552625800337\n"
     ]
    }
   ],
   "source": [
    "print(\"Disparate Impact:\",ad_metrics.disparate_impact())"
   ]
  },
  {
   "cell_type": "markdown",
   "id": "33dd3b82",
   "metadata": {},
   "source": [
    "We see that this value is clearly not close to 1 rather it is close to 0 again showing that the male individuals are favored in the data compared to females."
   ]
  },
  {
   "cell_type": "code",
   "execution_count": 19,
   "id": "642051cb",
   "metadata": {},
   "outputs": [
    {
     "name": "stdout",
     "output_type": "stream",
     "text": [
      "Consistency: 0.7566602514229388\n"
     ]
    }
   ],
   "source": [
    "print(\"Consistency:\",ad_metrics.consistency()[0])"
   ]
  },
  {
   "cell_type": "markdown",
   "id": "ca72164b",
   "metadata": {},
   "source": [
    "The value is not very close to 1, so somewhat the individual fairness is also not exhibited properly by the data."
   ]
  },
  {
   "cell_type": "markdown",
   "id": "0057c5ee",
   "metadata": {},
   "source": [
    "#### FAIRNESS OF TEST DATA"
   ]
  },
  {
   "cell_type": "markdown",
   "id": "eb2b0e21",
   "metadata": {},
   "source": [
    "To train our model we will split our data into 2 parts i.e. a training data and a test data."
   ]
  },
  {
   "cell_type": "code",
   "execution_count": 20,
   "id": "171e7850",
   "metadata": {},
   "outputs": [],
   "source": [
    "dset_raw_trn, dset_raw_tst = data_adult.split([0.7], shuffle=True)"
   ]
  },
  {
   "cell_type": "markdown",
   "id": "3b4cc059",
   "metadata": {},
   "source": [
    "Taking a look at the fairness metrics for the test data and the proportion of protected group and labels, we get:"
   ]
  },
  {
   "cell_type": "code",
   "execution_count": 25,
   "id": "f120ca25",
   "metadata": {},
   "outputs": [
    {
     "data": {
      "image/png": "[encoded data removed]",
      "text/plain": [
       "<Figure size 720x576 with 1 Axes>"
      ]
     },
     "metadata": {
      "needs_background": "light"
     },
     "output_type": "display_data"
    }
   ],
   "source": [
    "plot_prop_prtced_grp_lab(dset_raw_tst, \"Proportion of Groups and Labels on Test Data\")"
   ]
  },
  {
   "cell_type": "code",
   "execution_count": 47,
   "id": "41768e7f",
   "metadata": {},
   "outputs": [
    {
     "name": "stdout",
     "output_type": "stream",
     "text": [
      "Statistical Parity Difference: -0.20108190331180742\n",
      "Disparate Impact: 0.33850383917217547\n",
      "Consistency: 0.7429468368252314\n"
     ]
    }
   ],
   "source": [
    "dset_raw_tst_metrics = BinaryLabelDatasetMetric(dset_raw_tst,\n",
    "                                      unprivileged_groups=unpriv_group,\n",
    "                                     privileged_groups=priv_group)\n",
    "print(\"Statistical Parity Difference:\",dset_raw_tst_metrics.statistical_parity_difference())\n",
    "print(\"Disparate Impact:\",dset_raw_tst_metrics.disparate_impact())\n",
    "print(\"Consistency:\",dset_raw_tst_metrics.consistency()[0])"
   ]
  },
  {
   "cell_type": "markdown",
   "id": "47a4b410",
   "metadata": {},
   "source": [
    "Now, we fit a Logistic Regression Model"
   ]
  },
  {
   "cell_type": "code",
   "execution_count": 85,
   "id": "fb8981e1",
   "metadata": {},
   "outputs": [],
   "source": [
    "scaler = StandardScaler()\n",
    "dset_trn = scaler.fit_transform(dset_raw_trn.features)\n",
    "y_trn = dset_raw_trn.labels.ravel()"
   ]
  },
  {
   "cell_type": "code",
   "execution_count": 86,
   "id": "d64cf9bf",
   "metadata": {},
   "outputs": [
    {
     "data": {
      "text/plain": [
       "LogisticRegression()"
      ]
     },
     "execution_count": 86,
     "metadata": {},
     "output_type": "execute_result"
    }
   ],
   "source": [
    "lmod= LogisticRegression(penalty='l2')\n",
    "lmod.fit(dset_trn, y_trn)"
   ]
  },
  {
   "cell_type": "code",
   "execution_count": 87,
   "id": "41ee7756",
   "metadata": {},
   "outputs": [],
   "source": [
    "dset_tst_pred = dset_raw_tst.copy(deepcopy=True)\n",
    "dset_tst = scaler.transform(dset_tst_pred.features)\n",
    "dset_tst_pred.labels = lmod.predict(dset_tst)"
   ]
  },
  {
   "cell_type": "markdown",
   "id": "b7781414",
   "metadata": {},
   "source": [
    "Taking a look at the fairness metris for the test data, we get:"
   ]
  },
  {
   "cell_type": "code",
   "execution_count": 88,
   "id": "10db3569",
   "metadata": {},
   "outputs": [
    {
     "name": "stdout",
     "output_type": "stream",
     "text": [
      "Statistical Parity Difference: -0.2074722589840171\n",
      "Disparate Impact: 0.0\n",
      "Consistency: 1.0\n"
     ]
    }
   ],
   "source": [
    "dset_tst_pred_metrics = BinaryLabelDatasetMetric(dset_tst_pred,\n",
    "                                      unprivileged_groups=unpriv_group,\n",
    "                                     privileged_groups=priv_group)\n",
    "print(\"Statistical Parity Difference:\",dset_tst_pred_metrics.statistical_parity_difference())\n",
    "print(\"Disparate Impact:\",dset_tst_pred_metrics.disparate_impact())\n",
    "print(\"Consistency:\",dset_tst_pred_metrics.consistency())"
   ]
  },
  {
   "cell_type": "markdown",
   "id": "318c69c5",
   "metadata": {},
   "source": [
    "We see training without any fairness intervention made the fairness issue with the dataset even worse. Taking a look at the proportion of unprivileged group individuals who were given the favorable label by the model and privileged group proportion for the same, we see the model exhibits fairness problem severely. It classified no protected privileged group individual to favorable label and classified all unprivileged group individual to unfavorable label."
   ]
  },
  {
   "cell_type": "code",
   "execution_count": 120,
   "id": "6d8086ac",
   "metadata": {},
   "outputs": [
    {
     "data": {
      "image/png": "[encoded data removed]",
      "text/plain": [
       "<Figure size 720x576 with 1 Axes>"
      ]
     },
     "metadata": {
      "needs_background": "light"
     },
     "output_type": "display_data"
    }
   ],
   "source": [
    "plot_prop_prtced_grp_lab(dset_tst_pred)"
   ]
  },
  {
   "cell_type": "code",
   "execution_count": null,
   "id": "17a2ea92",
   "metadata": {},
   "outputs": [],
   "source": []
  }
 ],
 "metadata": {
  "kernelspec": {
   "display_name": "Python 3",
   "language": "python",
   "name": "python3"
  },
  "language_info": {
   "codemirror_mode": {
    "name": "ipython",
    "version": 3
   },
   "file_extension": ".py",
   "mimetype": "text/x-python",
   "name": "python",
   "nbconvert_exporter": "python",
   "pygments_lexer": "ipython3",
   "version": "3.6.8"
  }
 },
 "nbformat": 4,
 "nbformat_minor": 5
}
