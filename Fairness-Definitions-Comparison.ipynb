{
 "cells": [
  {
   "cell_type": "markdown",
   "id": "2106d04b",
   "metadata": {},
   "source": [
    "## VARIOUS DEFINITIONS OF FAIRNESS COMPARED"
   ]
  },
  {
   "cell_type": "markdown",
   "id": "004e2124",
   "metadata": {},
   "source": [
    "Here we will compare the aspects of the different definitions of Fairness on the [Adult Dataset](https://archive.ics.uci.edu/ml/datasets/adult).  "
   ]
  },
  {
   "cell_type": "markdown",
   "id": "dd69d99f",
   "metadata": {},
   "source": [
    "### IMPORTING THE NECESSARY LIBRARIES"
   ]
  },
  {
   "cell_type": "markdown",
   "id": "3fd4239b",
   "metadata": {},
   "source": [
    "We will be using the open-source [AIF360](https://github.com/Trusted-AI/AIF360) package."
   ]
  },
  {
   "cell_type": "code",
   "execution_count": 3,
   "id": "70eaca41",
   "metadata": {},
   "outputs": [],
   "source": [
    "import numpy as np\n",
    "np.set_printoptions(suppress = True)\n",
    "\n",
    "import matplotlib.pyplot as plt\n",
    "\n",
    "# Importing the Dataset\n",
    "from aif360.datasets import AdultDataset\n",
    "from aif360.algorithms.preprocessing.optim_preproc_helpers.data_preproc_functions import load_preproc_data_adult\n",
    "\n",
    "from aif360.datasets import BinaryLabelDataset\n",
    "from aif360.metrics import BinaryLabelDatasetMetric, ClassificationMetric\n",
    "\n",
    "from aif360.metrics.utils import compute_boolean_conditioning_vector\n",
    "from common_utils import compute_metrics\n",
    "\n",
    "from sklearn.linear_model import LogisticRegression\n",
    "from sklearn.preprocessing import StandardScaler"
   ]
  },
  {
   "cell_type": "markdown",
   "id": "11f86a38",
   "metadata": {},
   "source": [
    "### DATASET"
   ]
  },
  {
   "cell_type": "markdown",
   "id": "450f1f9b",
   "metadata": {},
   "source": [
    "The following shows the raw data."
   ]
  },
  {
   "cell_type": "code",
   "execution_count": 5,
   "id": "b999d433",
   "metadata": {},
   "outputs": [
    {
     "name": "stderr",
     "output_type": "stream",
     "text": [
      "WARNING:root:Missing Data: 3620 rows removed from AdultDataset.\n"
     ]
    },
    {
     "data": {
      "text/plain": [
       "               instance weights features                ...                                                  labels\n",
       "                                                        ...                                                        \n",
       "                                     age education-num  ... native-country=Vietnam native-country=Yugoslavia       \n",
       "instance names                                          ...                                                        \n",
       "0                           1.0     25.0           7.0  ...                    0.0                       0.0    0.0\n",
       "1                           1.0     38.0           9.0  ...                    0.0                       0.0    0.0\n",
       "2                           1.0     28.0          12.0  ...                    0.0                       0.0    1.0\n",
       "3                           1.0     44.0          10.0  ...                    0.0                       0.0    1.0\n",
       "5                           1.0     34.0           6.0  ...                    0.0                       0.0    0.0\n",
       "...                         ...      ...           ...  ...                    ...                       ...    ...\n",
       "48837                       1.0     27.0          12.0  ...                    0.0                       0.0    0.0\n",
       "48838                       1.0     40.0           9.0  ...                    0.0                       0.0    1.0\n",
       "48839                       1.0     58.0           9.0  ...                    0.0                       0.0    0.0\n",
       "48840                       1.0     22.0           9.0  ...                    0.0                       0.0    0.0\n",
       "48841                       1.0     52.0           9.0  ...                    0.0                       0.0    1.0\n",
       "\n",
       "[45222 rows x 100 columns]"
      ]
     },
     "execution_count": 5,
     "metadata": {},
     "output_type": "execute_result"
    }
   ],
   "source": [
    "data_adult = AdultDataset()\n",
    "data_adult"
   ]
  },
  {
   "cell_type": "code",
   "execution_count": 8,
   "id": "5f970438",
   "metadata": {},
   "outputs": [
    {
     "name": "stdout",
     "output_type": "stream",
     "text": [
      "['age', 'education-num', 'race', 'sex', 'capital-gain', 'capital-loss', 'hours-per-week', 'workclass=Federal-gov', 'workclass=Local-gov', 'workclass=Private', 'workclass=Self-emp-inc', 'workclass=Self-emp-not-inc', 'workclass=State-gov', 'workclass=Without-pay', 'education=10th', 'education=11th', 'education=12th', 'education=1st-4th', 'education=5th-6th', 'education=7th-8th', 'education=9th', 'education=Assoc-acdm', 'education=Assoc-voc', 'education=Bachelors', 'education=Doctorate', 'education=HS-grad', 'education=Masters', 'education=Preschool', 'education=Prof-school', 'education=Some-college', 'marital-status=Divorced', 'marital-status=Married-AF-spouse', 'marital-status=Married-civ-spouse', 'marital-status=Married-spouse-absent', 'marital-status=Never-married', 'marital-status=Separated', 'marital-status=Widowed', 'occupation=Adm-clerical', 'occupation=Armed-Forces', 'occupation=Craft-repair', 'occupation=Exec-managerial', 'occupation=Farming-fishing', 'occupation=Handlers-cleaners', 'occupation=Machine-op-inspct', 'occupation=Other-service', 'occupation=Priv-house-serv', 'occupation=Prof-specialty', 'occupation=Protective-serv', 'occupation=Sales', 'occupation=Tech-support', 'occupation=Transport-moving', 'relationship=Husband', 'relationship=Not-in-family', 'relationship=Other-relative', 'relationship=Own-child', 'relationship=Unmarried', 'relationship=Wife', 'native-country=Cambodia', 'native-country=Canada', 'native-country=China', 'native-country=Columbia', 'native-country=Cuba', 'native-country=Dominican-Republic', 'native-country=Ecuador', 'native-country=El-Salvador', 'native-country=England', 'native-country=France', 'native-country=Germany', 'native-country=Greece', 'native-country=Guatemala', 'native-country=Haiti', 'native-country=Holand-Netherlands', 'native-country=Honduras', 'native-country=Hong', 'native-country=Hungary', 'native-country=India', 'native-country=Iran', 'native-country=Ireland', 'native-country=Italy', 'native-country=Jamaica', 'native-country=Japan', 'native-country=Laos', 'native-country=Mexico', 'native-country=Nicaragua', 'native-country=Outlying-US(Guam-USVI-etc)', 'native-country=Peru', 'native-country=Philippines', 'native-country=Poland', 'native-country=Portugal', 'native-country=Puerto-Rico', 'native-country=Scotland', 'native-country=South', 'native-country=Taiwan', 'native-country=Thailand', 'native-country=Trinadad&Tobago', 'native-country=United-States', 'native-country=Vietnam', 'native-country=Yugoslavia']\n"
     ]
    }
   ],
   "source": [
    "print(data_adult.feature_names, sep=\",\")"
   ]
  },
  {
   "cell_type": "markdown",
   "id": "53fbdc50",
   "metadata": {},
   "source": [
    "The above data is not the preprocessed or cleaned data. There are 100 features! AIF360 presents us with a function that loads the cleaned version of the Adult dataset and it is much better to handle it."
   ]
  },
  {
   "cell_type": "code",
   "execution_count": 9,
   "id": "16012adc",
   "metadata": {},
   "outputs": [],
   "source": [
    "priv_group = [{'sex':1}]\n",
    "unpriv_group = [{'sex':0}]"
   ]
  },
  {
   "cell_type": "markdown",
   "id": "c28ebae9",
   "metadata": {},
   "source": [
    "We will address the problem of fairness for gender here. So, we choose the protected group as sex with the males indicated by 1 as the privileged group and the females indicated by 0 as the unprivileged group as shown above."
   ]
  },
  {
   "cell_type": "code",
   "execution_count": 14,
   "id": "6ef9420e",
   "metadata": {},
   "outputs": [
    {
     "data": {
      "text/plain": [
       "               instance weights features                      ...                                        labels\n",
       "                                         protected attribute  ...                                              \n",
       "                                    race                 sex  ... Education Years=<6 Education Years=>12       \n",
       "instance names                                                ...                                              \n",
       "0                           1.0      0.0                 1.0  ...                0.0                 0.0    0.0\n",
       "1                           1.0      1.0                 1.0  ...                0.0                 0.0    0.0\n",
       "2                           1.0      1.0                 1.0  ...                0.0                 0.0    1.0\n",
       "3                           1.0      0.0                 1.0  ...                0.0                 0.0    1.0\n",
       "4                           1.0      1.0                 0.0  ...                0.0                 0.0    0.0\n",
       "...                         ...      ...                 ...  ...                ...                 ...    ...\n",
       "48837                       1.0      1.0                 0.0  ...                0.0                 0.0    0.0\n",
       "48838                       1.0      1.0                 1.0  ...                0.0                 0.0    1.0\n",
       "48839                       1.0      1.0                 0.0  ...                0.0                 0.0    0.0\n",
       "48840                       1.0      1.0                 1.0  ...                0.0                 0.0    0.0\n",
       "48841                       1.0      1.0                 0.0  ...                0.0                 0.0    1.0\n",
       "\n",
       "[48842 rows x 20 columns]"
      ]
     },
     "execution_count": 14,
     "metadata": {},
     "output_type": "execute_result"
    }
   ],
   "source": [
    "data_adult = load_preproc_data_adult(['sex'])\n",
    "data_adult"
   ]
  },
  {
   "cell_type": "code",
   "execution_count": 15,
   "id": "d03a8513",
   "metadata": {},
   "outputs": [
    {
     "name": "stdout",
     "output_type": "stream",
     "text": [
      "['race', 'sex', 'Age (decade)=10', 'Age (decade)=20', 'Age (decade)=30', 'Age (decade)=40', 'Age (decade)=50', 'Age (decade)=60', 'Age (decade)=>=70', 'Education Years=6', 'Education Years=7', 'Education Years=8', 'Education Years=9', 'Education Years=10', 'Education Years=11', 'Education Years=12', 'Education Years=<6', 'Education Years=>12']\n"
     ]
    }
   ],
   "source": [
    "print(data_adult.feature_names, sep=\", \")"
   ]
  },
  {
   "cell_type": "markdown",
   "id": "958c5e5e",
   "metadata": {},
   "source": [
    "The number of features in this cleaned pre-processed dataset is far less than the number of features in the original dataset. It is more managable."
   ]
  },
  {
   "cell_type": "markdown",
   "id": "8d09f018",
   "metadata": {},
   "source": [
    "### EVALUATION OF FAIRNESS OF DATA "
   ]
  },
  {
   "cell_type": "markdown",
   "id": "40d66225",
   "metadata": {},
   "source": [
    "Here, we will try to find out how fair is the data with respect to the protected group i.e. sex as per the various definitions of fairness."
   ]
  },
  {
   "cell_type": "markdown",
   "id": "9e84c65c",
   "metadata": {},
   "source": [
    "#### CLEANED DATA FAIRNESS"
   ]
  },
  {
   "cell_type": "code",
   "execution_count": 16,
   "id": "0172f11e",
   "metadata": {},
   "outputs": [],
   "source": [
    "ad_metrics = BinaryLabelDatasetMetric(data_adult,\n",
    "                                      unprivileged_groups=unpriv_group,\n",
    "                                     privileged_groups=priv_group)"
   ]
  },
  {
   "cell_type": "markdown",
   "id": "ee42bfbc",
   "metadata": {},
   "source": [
    "- Statistical Parity Difference"
   ]
  },
  {
   "cell_type": "code",
   "execution_count": 17,
   "id": "99e7fcc9",
   "metadata": {},
   "outputs": [
    {
     "data": {
      "text/plain": [
       "-0.19451574596420296"
      ]
     },
     "execution_count": 17,
     "metadata": {},
     "output_type": "execute_result"
    }
   ],
   "source": [
    "ad_metrics.statistical_parity_difference()"
   ]
  },
  {
   "cell_type": "markdown",
   "id": "c697eb33",
   "metadata": {},
   "source": [
    "We observe quite a bit of deviation from 0 which is in favor of the male group. Hence, data is not fair as per this definition. "
   ]
  },
  {
   "cell_type": "markdown",
   "id": "43febbc4",
   "metadata": {},
   "source": [
    "- Disparate Impact"
   ]
  },
  {
   "cell_type": "code",
   "execution_count": 18,
   "id": "81e3edd2",
   "metadata": {},
   "outputs": [
    {
     "data": {
      "text/plain": [
       "0.3596552625800337"
      ]
     },
     "execution_count": 18,
     "metadata": {},
     "output_type": "execute_result"
    }
   ],
   "source": [
    "ad_metrics.disparate_impact()"
   ]
  },
  {
   "cell_type": "markdown",
   "id": "d1f2674c",
   "metadata": {},
   "source": [
    "We see that this value is clearly not close to 1 rather it is close to 0 again showing that the male individuals are favored in the data compared to females."
   ]
  },
  {
   "cell_type": "markdown",
   "id": "36bdccfd",
   "metadata": {},
   "source": [
    "- Consistency"
   ]
  },
  {
   "cell_type": "code",
   "execution_count": 25,
   "id": "42776391",
   "metadata": {},
   "outputs": [
    {
     "data": {
      "text/plain": [
       "0.7566602514229388"
      ]
     },
     "execution_count": 25,
     "metadata": {},
     "output_type": "execute_result"
    }
   ],
   "source": [
    "ad_metrics.consistency()[0]"
   ]
  },
  {
   "cell_type": "markdown",
   "id": "4775a981",
   "metadata": {},
   "source": [
    "The value is not very close to 1, so somewhat the individual fairness is also not exhibited properly by the data."
   ]
  },
  {
   "cell_type": "markdown",
   "id": "9ad1a440",
   "metadata": {},
   "source": [
    "#### FAIRNESS OF TRAINED MODEL"
   ]
  },
  {
   "cell_type": "code",
   "execution_count": null,
   "id": "a967a089",
   "metadata": {},
   "outputs": [],
   "source": []
  }
 ],
 "metadata": {
  "kernelspec": {
   "display_name": "Python 3",
   "language": "python",
   "name": "python3"
  },
  "language_info": {
   "codemirror_mode": {
    "name": "ipython",
    "version": 3
   },
   "file_extension": ".py",
   "mimetype": "text/x-python",
   "name": "python",
   "nbconvert_exporter": "python",
   "pygments_lexer": "ipython3",
   "version": "3.6.8"
  }
 },
 "nbformat": 4,
 "nbformat_minor": 5
}
