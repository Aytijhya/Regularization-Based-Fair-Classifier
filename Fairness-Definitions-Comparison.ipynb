{
 "cells": [
  {
   "cell_type": "markdown",
   "id": "cc719301",
   "metadata": {},
   "source": [
    "## VARIOUS DEFINITIONS OF FAIRNESS COMPARED"
   ]
  },
  {
   "cell_type": "markdown",
   "id": "bad5178c",
   "metadata": {},
   "source": [
    "Here we will compare the aspects of the different popular [definitions of fairness](Fair-Classifier.ipynb) on the [Adult Dataset](https://archive.ics.uci.edu/ml/datasets/adult).  "
   ]
  },
  {
   "cell_type": "markdown",
   "id": "b8201de1",
   "metadata": {},
   "source": [
    "### IMPORTING THE NECESSARY LIBRARIES"
   ]
  },
  {
   "cell_type": "markdown",
   "id": "fae3b122",
   "metadata": {},
   "source": [
    "We will be using the open-source [AIF360](https://github.com/Trusted-AI/AIF360) package."
   ]
  },
  {
   "cell_type": "code",
   "execution_count": 164,
   "id": "dcd9aae8",
   "metadata": {},
   "outputs": [],
   "source": [
    "import numpy as np\n",
    "np.set_printoptions(suppress = True)\n",
    "import pandas as pd\n",
    "\n",
    "import matplotlib.pyplot as plt\n",
    "\n",
    "# Importing the Dataset\n",
    "from aif360.datasets import AdultDataset\n",
    "from aif360.algorithms.preprocessing.optim_preproc_helpers.data_preproc_functions import load_preproc_data_adult\n",
    "\n",
    "from aif360.datasets import BinaryLabelDataset\n",
    "from aif360.metrics import BinaryLabelDatasetMetric, ClassificationMetric\n",
    "\n",
    "from aif360.metrics.utils import compute_boolean_conditioning_vector\n",
    "from common_utils import compute_metrics\n",
    "\n",
    "from sklearn.linear_model import LogisticRegression\n",
    "from sklearn.preprocessing import StandardScaler\n",
    "from sklearn.model_selection import train_test_split"
   ]
  },
  {
   "cell_type": "markdown",
   "id": "a1a22b9c",
   "metadata": {},
   "source": [
    "### DATASET"
   ]
  },
  {
   "cell_type": "markdown",
   "id": "e257cd3f",
   "metadata": {},
   "source": [
    "The following shows the raw data."
   ]
  },
  {
   "cell_type": "code",
   "execution_count": 117,
   "id": "074ce56f",
   "metadata": {},
   "outputs": [
    {
     "name": "stderr",
     "output_type": "stream",
     "text": [
      "WARNING:root:Missing Data: 3620 rows removed from AdultDataset.\n"
     ]
    },
    {
     "data": {
      "text/html": [
       "<div>\n",
       "<style scoped>\n",
       "    .dataframe tbody tr th:only-of-type {\n",
       "        vertical-align: middle;\n",
       "    }\n",
       "\n",
       "    .dataframe tbody tr th {\n",
       "        vertical-align: top;\n",
       "    }\n",
       "\n",
       "    .dataframe thead th {\n",
       "        text-align: right;\n",
       "    }\n",
       "</style>\n",
       "<table border=\"1\" class=\"dataframe\">\n",
       "  <thead>\n",
       "    <tr style=\"text-align: right;\">\n",
       "      <th></th>\n",
       "      <th>age</th>\n",
       "      <th>education-num</th>\n",
       "      <th>race</th>\n",
       "      <th>sex</th>\n",
       "      <th>capital-gain</th>\n",
       "      <th>capital-loss</th>\n",
       "      <th>hours-per-week</th>\n",
       "      <th>income-per-year</th>\n",
       "      <th>workclass=Federal-gov</th>\n",
       "      <th>workclass=Local-gov</th>\n",
       "      <th>workclass=Private</th>\n",
       "    </tr>\n",
       "  </thead>\n",
       "  <tbody>\n",
       "    <tr>\n",
       "      <th>0</th>\n",
       "      <td>25.0</td>\n",
       "      <td>7.0</td>\n",
       "      <td>0.0</td>\n",
       "      <td>1.0</td>\n",
       "      <td>0.0</td>\n",
       "      <td>0.0</td>\n",
       "      <td>40.0</td>\n",
       "      <td>0.0</td>\n",
       "      <td>0.0</td>\n",
       "      <td>0.0</td>\n",
       "      <td>1.0</td>\n",
       "    </tr>\n",
       "    <tr>\n",
       "      <th>1</th>\n",
       "      <td>38.0</td>\n",
       "      <td>9.0</td>\n",
       "      <td>1.0</td>\n",
       "      <td>1.0</td>\n",
       "      <td>0.0</td>\n",
       "      <td>0.0</td>\n",
       "      <td>50.0</td>\n",
       "      <td>0.0</td>\n",
       "      <td>0.0</td>\n",
       "      <td>0.0</td>\n",
       "      <td>1.0</td>\n",
       "    </tr>\n",
       "    <tr>\n",
       "      <th>2</th>\n",
       "      <td>28.0</td>\n",
       "      <td>12.0</td>\n",
       "      <td>1.0</td>\n",
       "      <td>1.0</td>\n",
       "      <td>0.0</td>\n",
       "      <td>0.0</td>\n",
       "      <td>40.0</td>\n",
       "      <td>1.0</td>\n",
       "      <td>0.0</td>\n",
       "      <td>1.0</td>\n",
       "      <td>0.0</td>\n",
       "    </tr>\n",
       "    <tr>\n",
       "      <th>3</th>\n",
       "      <td>44.0</td>\n",
       "      <td>10.0</td>\n",
       "      <td>0.0</td>\n",
       "      <td>1.0</td>\n",
       "      <td>7688.0</td>\n",
       "      <td>0.0</td>\n",
       "      <td>40.0</td>\n",
       "      <td>1.0</td>\n",
       "      <td>0.0</td>\n",
       "      <td>0.0</td>\n",
       "      <td>1.0</td>\n",
       "    </tr>\n",
       "    <tr>\n",
       "      <th>5</th>\n",
       "      <td>34.0</td>\n",
       "      <td>6.0</td>\n",
       "      <td>1.0</td>\n",
       "      <td>1.0</td>\n",
       "      <td>0.0</td>\n",
       "      <td>0.0</td>\n",
       "      <td>30.0</td>\n",
       "      <td>0.0</td>\n",
       "      <td>0.0</td>\n",
       "      <td>0.0</td>\n",
       "      <td>1.0</td>\n",
       "    </tr>\n",
       "    <tr>\n",
       "      <th>...</th>\n",
       "      <td>...</td>\n",
       "      <td>...</td>\n",
       "      <td>...</td>\n",
       "      <td>...</td>\n",
       "      <td>...</td>\n",
       "      <td>...</td>\n",
       "      <td>...</td>\n",
       "      <td>...</td>\n",
       "      <td>...</td>\n",
       "      <td>...</td>\n",
       "      <td>...</td>\n",
       "    </tr>\n",
       "    <tr>\n",
       "      <th>48837</th>\n",
       "      <td>27.0</td>\n",
       "      <td>12.0</td>\n",
       "      <td>1.0</td>\n",
       "      <td>0.0</td>\n",
       "      <td>0.0</td>\n",
       "      <td>0.0</td>\n",
       "      <td>38.0</td>\n",
       "      <td>0.0</td>\n",
       "      <td>0.0</td>\n",
       "      <td>0.0</td>\n",
       "      <td>1.0</td>\n",
       "    </tr>\n",
       "    <tr>\n",
       "      <th>48838</th>\n",
       "      <td>40.0</td>\n",
       "      <td>9.0</td>\n",
       "      <td>1.0</td>\n",
       "      <td>1.0</td>\n",
       "      <td>0.0</td>\n",
       "      <td>0.0</td>\n",
       "      <td>40.0</td>\n",
       "      <td>1.0</td>\n",
       "      <td>0.0</td>\n",
       "      <td>0.0</td>\n",
       "      <td>1.0</td>\n",
       "    </tr>\n",
       "    <tr>\n",
       "      <th>48839</th>\n",
       "      <td>58.0</td>\n",
       "      <td>9.0</td>\n",
       "      <td>1.0</td>\n",
       "      <td>0.0</td>\n",
       "      <td>0.0</td>\n",
       "      <td>0.0</td>\n",
       "      <td>40.0</td>\n",
       "      <td>0.0</td>\n",
       "      <td>0.0</td>\n",
       "      <td>0.0</td>\n",
       "      <td>1.0</td>\n",
       "    </tr>\n",
       "    <tr>\n",
       "      <th>48840</th>\n",
       "      <td>22.0</td>\n",
       "      <td>9.0</td>\n",
       "      <td>1.0</td>\n",
       "      <td>1.0</td>\n",
       "      <td>0.0</td>\n",
       "      <td>0.0</td>\n",
       "      <td>20.0</td>\n",
       "      <td>0.0</td>\n",
       "      <td>0.0</td>\n",
       "      <td>0.0</td>\n",
       "      <td>1.0</td>\n",
       "    </tr>\n",
       "    <tr>\n",
       "      <th>48841</th>\n",
       "      <td>52.0</td>\n",
       "      <td>9.0</td>\n",
       "      <td>1.0</td>\n",
       "      <td>0.0</td>\n",
       "      <td>15024.0</td>\n",
       "      <td>0.0</td>\n",
       "      <td>40.0</td>\n",
       "      <td>1.0</td>\n",
       "      <td>0.0</td>\n",
       "      <td>0.0</td>\n",
       "      <td>0.0</td>\n",
       "    </tr>\n",
       "  </tbody>\n",
       "</table>\n",
       "<p>45222 rows × 11 columns</p>\n",
       "</div>"
      ],
      "text/plain": [
       "        age  education-num  race  sex  capital-gain  capital-loss  \\\n",
       "0      25.0            7.0   0.0  1.0           0.0           0.0   \n",
       "1      38.0            9.0   1.0  1.0           0.0           0.0   \n",
       "2      28.0           12.0   1.0  1.0           0.0           0.0   \n",
       "3      44.0           10.0   0.0  1.0        7688.0           0.0   \n",
       "5      34.0            6.0   1.0  1.0           0.0           0.0   \n",
       "...     ...            ...   ...  ...           ...           ...   \n",
       "48837  27.0           12.0   1.0  0.0           0.0           0.0   \n",
       "48838  40.0            9.0   1.0  1.0           0.0           0.0   \n",
       "48839  58.0            9.0   1.0  0.0           0.0           0.0   \n",
       "48840  22.0            9.0   1.0  1.0           0.0           0.0   \n",
       "48841  52.0            9.0   1.0  0.0       15024.0           0.0   \n",
       "\n",
       "       hours-per-week  income-per-year  workclass=Federal-gov  \\\n",
       "0                40.0              0.0                    0.0   \n",
       "1                50.0              0.0                    0.0   \n",
       "2                40.0              1.0                    0.0   \n",
       "3                40.0              1.0                    0.0   \n",
       "5                30.0              0.0                    0.0   \n",
       "...               ...              ...                    ...   \n",
       "48837            38.0              0.0                    0.0   \n",
       "48838            40.0              1.0                    0.0   \n",
       "48839            40.0              0.0                    0.0   \n",
       "48840            20.0              0.0                    0.0   \n",
       "48841            40.0              1.0                    0.0   \n",
       "\n",
       "       workclass=Local-gov  workclass=Private  \n",
       "0                      0.0                1.0  \n",
       "1                      0.0                1.0  \n",
       "2                      1.0                0.0  \n",
       "3                      0.0                1.0  \n",
       "5                      0.0                1.0  \n",
       "...                    ...                ...  \n",
       "48837                  0.0                1.0  \n",
       "48838                  0.0                1.0  \n",
       "48839                  0.0                1.0  \n",
       "48840                  0.0                1.0  \n",
       "48841                  0.0                0.0  \n",
       "\n",
       "[45222 rows x 11 columns]"
      ]
     },
     "execution_count": 117,
     "metadata": {},
     "output_type": "execute_result"
    }
   ],
   "source": [
    "data_adult = AdultDataset()\n",
    "pd.DataFrame(data_adult.metadata['params']['df']).iloc[:,0:11] # Some columns are skipped to prevent print overflow"
   ]
  },
  {
   "cell_type": "code",
   "execution_count": 9,
   "id": "2ec5ff4b",
   "metadata": {},
   "outputs": [
    {
     "name": "stdout",
     "output_type": "stream",
     "text": [
      "['age', 'education-num', 'race', 'sex', 'capital-gain', 'capital-loss', 'hours-per-week', 'workclass=Federal-gov', 'workclass=Local-gov', 'workclass=Private', 'workclass=Self-emp-inc', 'workclass=Self-emp-not-inc', 'workclass=State-gov', 'workclass=Without-pay', 'education=10th', 'education=11th', 'education=12th', 'education=1st-4th', 'education=5th-6th', 'education=7th-8th', 'education=9th', 'education=Assoc-acdm', 'education=Assoc-voc', 'education=Bachelors', 'education=Doctorate', 'education=HS-grad', 'education=Masters', 'education=Preschool', 'education=Prof-school', 'education=Some-college', 'marital-status=Divorced', 'marital-status=Married-AF-spouse', 'marital-status=Married-civ-spouse', 'marital-status=Married-spouse-absent', 'marital-status=Never-married', 'marital-status=Separated', 'marital-status=Widowed', 'occupation=Adm-clerical', 'occupation=Armed-Forces', 'occupation=Craft-repair', 'occupation=Exec-managerial', 'occupation=Farming-fishing', 'occupation=Handlers-cleaners', 'occupation=Machine-op-inspct', 'occupation=Other-service', 'occupation=Priv-house-serv', 'occupation=Prof-specialty', 'occupation=Protective-serv', 'occupation=Sales', 'occupation=Tech-support', 'occupation=Transport-moving', 'relationship=Husband', 'relationship=Not-in-family', 'relationship=Other-relative', 'relationship=Own-child', 'relationship=Unmarried', 'relationship=Wife', 'native-country=Cambodia', 'native-country=Canada', 'native-country=China', 'native-country=Columbia', 'native-country=Cuba', 'native-country=Dominican-Republic', 'native-country=Ecuador', 'native-country=El-Salvador', 'native-country=England', 'native-country=France', 'native-country=Germany', 'native-country=Greece', 'native-country=Guatemala', 'native-country=Haiti', 'native-country=Holand-Netherlands', 'native-country=Honduras', 'native-country=Hong', 'native-country=Hungary', 'native-country=India', 'native-country=Iran', 'native-country=Ireland', 'native-country=Italy', 'native-country=Jamaica', 'native-country=Japan', 'native-country=Laos', 'native-country=Mexico', 'native-country=Nicaragua', 'native-country=Outlying-US(Guam-USVI-etc)', 'native-country=Peru', 'native-country=Philippines', 'native-country=Poland', 'native-country=Portugal', 'native-country=Puerto-Rico', 'native-country=Scotland', 'native-country=South', 'native-country=Taiwan', 'native-country=Thailand', 'native-country=Trinadad&Tobago', 'native-country=United-States', 'native-country=Vietnam', 'native-country=Yugoslavia']\n"
     ]
    }
   ],
   "source": [
    "print(data_adult.feature_names, sep=\",\")"
   ]
  },
  {
   "cell_type": "markdown",
   "id": "3cf52071",
   "metadata": {},
   "source": [
    "The above data is not the preprocessed or cleaned data. There are 100 features! AIF360 presents us with a function that loads the cleaned version of the Adult dataset and it is much better to handle it."
   ]
  },
  {
   "cell_type": "code",
   "execution_count": 10,
   "id": "59e76efa",
   "metadata": {},
   "outputs": [],
   "source": [
    "priv_group = [{'sex':1}]\n",
    "unpriv_group = [{'sex':0}]"
   ]
  },
  {
   "cell_type": "markdown",
   "id": "61829850",
   "metadata": {},
   "source": [
    "We will address the problem of fairness for gender here. So, we choose the protected group as sex with the males indicated by 1 as the privileged group and the females indicated by 0 as the unprivileged group as shown above."
   ]
  },
  {
   "cell_type": "code",
   "execution_count": 118,
   "id": "ecb4b423",
   "metadata": {},
   "outputs": [
    {
     "data": {
      "text/html": [
       "<div>\n",
       "<style scoped>\n",
       "    .dataframe tbody tr th:only-of-type {\n",
       "        vertical-align: middle;\n",
       "    }\n",
       "\n",
       "    .dataframe tbody tr th {\n",
       "        vertical-align: top;\n",
       "    }\n",
       "\n",
       "    .dataframe thead th {\n",
       "        text-align: right;\n",
       "    }\n",
       "</style>\n",
       "<table border=\"1\" class=\"dataframe\">\n",
       "  <thead>\n",
       "    <tr style=\"text-align: right;\">\n",
       "      <th></th>\n",
       "      <th>race</th>\n",
       "      <th>sex</th>\n",
       "      <th>Income Binary</th>\n",
       "      <th>Age (decade)=10</th>\n",
       "      <th>Age (decade)=20</th>\n",
       "      <th>Age (decade)=30</th>\n",
       "      <th>Age (decade)=40</th>\n",
       "      <th>Age (decade)=50</th>\n",
       "      <th>Age (decade)=60</th>\n",
       "      <th>Age (decade)=&gt;=70</th>\n",
       "      <th>Education Years=6</th>\n",
       "    </tr>\n",
       "  </thead>\n",
       "  <tbody>\n",
       "    <tr>\n",
       "      <th>0</th>\n",
       "      <td>0.0</td>\n",
       "      <td>1.0</td>\n",
       "      <td>0.0</td>\n",
       "      <td>0.0</td>\n",
       "      <td>1.0</td>\n",
       "      <td>0.0</td>\n",
       "      <td>0.0</td>\n",
       "      <td>0.0</td>\n",
       "      <td>0.0</td>\n",
       "      <td>0.0</td>\n",
       "      <td>0.0</td>\n",
       "    </tr>\n",
       "    <tr>\n",
       "      <th>1</th>\n",
       "      <td>1.0</td>\n",
       "      <td>1.0</td>\n",
       "      <td>0.0</td>\n",
       "      <td>0.0</td>\n",
       "      <td>0.0</td>\n",
       "      <td>1.0</td>\n",
       "      <td>0.0</td>\n",
       "      <td>0.0</td>\n",
       "      <td>0.0</td>\n",
       "      <td>0.0</td>\n",
       "      <td>0.0</td>\n",
       "    </tr>\n",
       "    <tr>\n",
       "      <th>2</th>\n",
       "      <td>1.0</td>\n",
       "      <td>1.0</td>\n",
       "      <td>1.0</td>\n",
       "      <td>0.0</td>\n",
       "      <td>1.0</td>\n",
       "      <td>0.0</td>\n",
       "      <td>0.0</td>\n",
       "      <td>0.0</td>\n",
       "      <td>0.0</td>\n",
       "      <td>0.0</td>\n",
       "      <td>0.0</td>\n",
       "    </tr>\n",
       "    <tr>\n",
       "      <th>3</th>\n",
       "      <td>0.0</td>\n",
       "      <td>1.0</td>\n",
       "      <td>1.0</td>\n",
       "      <td>0.0</td>\n",
       "      <td>0.0</td>\n",
       "      <td>0.0</td>\n",
       "      <td>1.0</td>\n",
       "      <td>0.0</td>\n",
       "      <td>0.0</td>\n",
       "      <td>0.0</td>\n",
       "      <td>0.0</td>\n",
       "    </tr>\n",
       "    <tr>\n",
       "      <th>4</th>\n",
       "      <td>1.0</td>\n",
       "      <td>0.0</td>\n",
       "      <td>0.0</td>\n",
       "      <td>1.0</td>\n",
       "      <td>0.0</td>\n",
       "      <td>0.0</td>\n",
       "      <td>0.0</td>\n",
       "      <td>0.0</td>\n",
       "      <td>0.0</td>\n",
       "      <td>0.0</td>\n",
       "      <td>0.0</td>\n",
       "    </tr>\n",
       "    <tr>\n",
       "      <th>...</th>\n",
       "      <td>...</td>\n",
       "      <td>...</td>\n",
       "      <td>...</td>\n",
       "      <td>...</td>\n",
       "      <td>...</td>\n",
       "      <td>...</td>\n",
       "      <td>...</td>\n",
       "      <td>...</td>\n",
       "      <td>...</td>\n",
       "      <td>...</td>\n",
       "      <td>...</td>\n",
       "    </tr>\n",
       "    <tr>\n",
       "      <th>48837</th>\n",
       "      <td>1.0</td>\n",
       "      <td>0.0</td>\n",
       "      <td>0.0</td>\n",
       "      <td>0.0</td>\n",
       "      <td>1.0</td>\n",
       "      <td>0.0</td>\n",
       "      <td>0.0</td>\n",
       "      <td>0.0</td>\n",
       "      <td>0.0</td>\n",
       "      <td>0.0</td>\n",
       "      <td>0.0</td>\n",
       "    </tr>\n",
       "    <tr>\n",
       "      <th>48838</th>\n",
       "      <td>1.0</td>\n",
       "      <td>1.0</td>\n",
       "      <td>1.0</td>\n",
       "      <td>0.0</td>\n",
       "      <td>0.0</td>\n",
       "      <td>0.0</td>\n",
       "      <td>1.0</td>\n",
       "      <td>0.0</td>\n",
       "      <td>0.0</td>\n",
       "      <td>0.0</td>\n",
       "      <td>0.0</td>\n",
       "    </tr>\n",
       "    <tr>\n",
       "      <th>48839</th>\n",
       "      <td>1.0</td>\n",
       "      <td>0.0</td>\n",
       "      <td>0.0</td>\n",
       "      <td>0.0</td>\n",
       "      <td>0.0</td>\n",
       "      <td>0.0</td>\n",
       "      <td>0.0</td>\n",
       "      <td>1.0</td>\n",
       "      <td>0.0</td>\n",
       "      <td>0.0</td>\n",
       "      <td>0.0</td>\n",
       "    </tr>\n",
       "    <tr>\n",
       "      <th>48840</th>\n",
       "      <td>1.0</td>\n",
       "      <td>1.0</td>\n",
       "      <td>0.0</td>\n",
       "      <td>0.0</td>\n",
       "      <td>1.0</td>\n",
       "      <td>0.0</td>\n",
       "      <td>0.0</td>\n",
       "      <td>0.0</td>\n",
       "      <td>0.0</td>\n",
       "      <td>0.0</td>\n",
       "      <td>0.0</td>\n",
       "    </tr>\n",
       "    <tr>\n",
       "      <th>48841</th>\n",
       "      <td>1.0</td>\n",
       "      <td>0.0</td>\n",
       "      <td>1.0</td>\n",
       "      <td>0.0</td>\n",
       "      <td>0.0</td>\n",
       "      <td>0.0</td>\n",
       "      <td>0.0</td>\n",
       "      <td>1.0</td>\n",
       "      <td>0.0</td>\n",
       "      <td>0.0</td>\n",
       "      <td>0.0</td>\n",
       "    </tr>\n",
       "  </tbody>\n",
       "</table>\n",
       "<p>48842 rows × 11 columns</p>\n",
       "</div>"
      ],
      "text/plain": [
       "       race  sex  Income Binary  Age (decade)=10  Age (decade)=20  \\\n",
       "0       0.0  1.0            0.0              0.0              1.0   \n",
       "1       1.0  1.0            0.0              0.0              0.0   \n",
       "2       1.0  1.0            1.0              0.0              1.0   \n",
       "3       0.0  1.0            1.0              0.0              0.0   \n",
       "4       1.0  0.0            0.0              1.0              0.0   \n",
       "...     ...  ...            ...              ...              ...   \n",
       "48837   1.0  0.0            0.0              0.0              1.0   \n",
       "48838   1.0  1.0            1.0              0.0              0.0   \n",
       "48839   1.0  0.0            0.0              0.0              0.0   \n",
       "48840   1.0  1.0            0.0              0.0              1.0   \n",
       "48841   1.0  0.0            1.0              0.0              0.0   \n",
       "\n",
       "       Age (decade)=30  Age (decade)=40  Age (decade)=50  Age (decade)=60  \\\n",
       "0                  0.0              0.0              0.0              0.0   \n",
       "1                  1.0              0.0              0.0              0.0   \n",
       "2                  0.0              0.0              0.0              0.0   \n",
       "3                  0.0              1.0              0.0              0.0   \n",
       "4                  0.0              0.0              0.0              0.0   \n",
       "...                ...              ...              ...              ...   \n",
       "48837              0.0              0.0              0.0              0.0   \n",
       "48838              0.0              1.0              0.0              0.0   \n",
       "48839              0.0              0.0              1.0              0.0   \n",
       "48840              0.0              0.0              0.0              0.0   \n",
       "48841              0.0              0.0              1.0              0.0   \n",
       "\n",
       "       Age (decade)=>=70  Education Years=6  \n",
       "0                    0.0                0.0  \n",
       "1                    0.0                0.0  \n",
       "2                    0.0                0.0  \n",
       "3                    0.0                0.0  \n",
       "4                    0.0                0.0  \n",
       "...                  ...                ...  \n",
       "48837                0.0                0.0  \n",
       "48838                0.0                0.0  \n",
       "48839                0.0                0.0  \n",
       "48840                0.0                0.0  \n",
       "48841                0.0                0.0  \n",
       "\n",
       "[48842 rows x 11 columns]"
      ]
     },
     "execution_count": 118,
     "metadata": {},
     "output_type": "execute_result"
    }
   ],
   "source": [
    "data_adult = load_preproc_data_adult(['sex'])\n",
    "pd.DataFrame(data_adult.metadata['params']['df']).iloc[:,0:11] # Some columns are skipped to prevent print overflow"
   ]
  },
  {
   "cell_type": "code",
   "execution_count": 12,
   "id": "3a321aa7",
   "metadata": {},
   "outputs": [
    {
     "name": "stdout",
     "output_type": "stream",
     "text": [
      "['race', 'sex', 'Age (decade)=10', 'Age (decade)=20', 'Age (decade)=30', 'Age (decade)=40', 'Age (decade)=50', 'Age (decade)=60', 'Age (decade)=>=70', 'Education Years=6', 'Education Years=7', 'Education Years=8', 'Education Years=9', 'Education Years=10', 'Education Years=11', 'Education Years=12', 'Education Years=<6', 'Education Years=>12']\n"
     ]
    }
   ],
   "source": [
    "print(data_adult.feature_names, sep=\", \")"
   ]
  },
  {
   "cell_type": "markdown",
   "id": "af182ce8",
   "metadata": {},
   "source": [
    "The number of features in this cleaned pre-processed dataset is far less than the number of features in the original dataset. It is more managable."
   ]
  },
  {
   "cell_type": "markdown",
   "id": "202e3cfa",
   "metadata": {},
   "source": [
    "### EVALUATION OF FAIRNESS"
   ]
  },
  {
   "cell_type": "markdown",
   "id": "4c56027a",
   "metadata": {},
   "source": [
    "Here, we will try to find out how fair is the data with respect to the protected group i.e. sex as per the various definitions of fairness."
   ]
  },
  {
   "cell_type": "markdown",
   "id": "8ba214b0",
   "metadata": {},
   "source": [
    "#### CLEANED DATA FAIRNESS"
   ]
  },
  {
   "cell_type": "markdown",
   "id": "99dddc05",
   "metadata": {},
   "source": [
    "We look in the following histogram the proportion of the protected privileged and unprivileged groups proportion along with the class labels. "
   ]
  },
  {
   "cell_type": "code",
   "execution_count": 95,
   "id": "ce84c09a",
   "metadata": {},
   "outputs": [],
   "source": [
    "def plot_prop_prtced_grp_lab(data, title=\"\", figsize=(10,8)):\n",
    "    feature_idx = np.where(np.array(data.feature_names) == data.protected_attribute_names[0])[0][0]\n",
    "    n_p_fav = len(np.where(np.logical_and(data.features[:,feature_idx] == data.privileged_protected_attributes[0],data.labels == data.favorable_label) == True)[0])\n",
    "    n_unp_fav = len(np.where(np.logical_and(data.features[:,feature_idx] == data.unprivileged_protected_attributes[0],data.labels == data.favorable_label) == True)[0])\n",
    "    n_p_unfav = len(np.where(np.logical_and(data.features[:,feature_idx] == data.privileged_protected_attributes[0],data.labels == data.unfavorable_label) == True)[0])\n",
    "    n_unp_unfav = len(np.where(np.logical_and(data.features[:,feature_idx] == data.unprivileged_protected_attributes[0],data.labels == data.unfavorable_label) == True)[0])\n",
    "    plt.figure(figsize=figsize)\n",
    "    xlocs = [i for i in range(4)]\n",
    "    y = [n_p_fav/(n_p_fav+n_p_unfav), n_unp_fav/(n_unp_fav+n_unp_unfav), n_p_unfav/(n_p_fav+n_p_unfav), n_unp_unfav/(n_unp_fav+n_unp_unfav)]\n",
    "    plt.bar(['priv grp,fav label','unpriv grp,fav label', 'priv grp,unfav label', 'unpriv grp,unfav label'], y)\n",
    "    for i, v in enumerate(y):\n",
    "        plt.text(xlocs[i] - 0.05, v + 0.01, str(round(v,2)))\n",
    "    plt.title(title)\n",
    "    plt.show()"
   ]
  },
  {
   "cell_type": "code",
   "execution_count": null,
   "id": "cc84cb11",
   "metadata": {},
   "outputs": [],
   "source": [
    "plot_prop_prtced_grp_lab(data_adult, \"Proportion of Groups and Labels on Entire Data\")"
   ]
  },
  {
   "cell_type": "code",
   "execution_count": 31,
   "id": "e6dd7e14",
   "metadata": {},
   "outputs": [],
   "source": [
    "ad_metrics = BinaryLabelDatasetMetric(data_adult,\n",
    "                                      unprivileged_groups=unpriv_group,\n",
    "                                     privileged_groups=priv_group)"
   ]
  },
  {
   "cell_type": "code",
   "execution_count": 32,
   "id": "d65c5c87",
   "metadata": {},
   "outputs": [
    {
     "name": "stdout",
     "output_type": "stream",
     "text": [
      "Statistical Parity Difference: -0.19451574596420296\n"
     ]
    }
   ],
   "source": [
    "print(\"Statistical Parity Difference:\",ad_metrics.statistical_parity_difference())"
   ]
  },
  {
   "cell_type": "markdown",
   "id": "64454055",
   "metadata": {},
   "source": [
    "We observe quite a bit of deviation from 0 which is in favor of the male group. Hence, data is not fair as per this definition. "
   ]
  },
  {
   "cell_type": "code",
   "execution_count": 33,
   "id": "da7981f9",
   "metadata": {},
   "outputs": [
    {
     "name": "stdout",
     "output_type": "stream",
     "text": [
      "Disparate Impact: 0.3596552625800337\n"
     ]
    }
   ],
   "source": [
    "print(\"Disparate Impact:\",ad_metrics.disparate_impact())"
   ]
  },
  {
   "cell_type": "markdown",
   "id": "33dd3b82",
   "metadata": {},
   "source": [
    "We see that this value is clearly not close to 1 rather it is close to 0 again showing that the male individuals are favored in the data compared to females."
   ]
  },
  {
   "cell_type": "code",
   "execution_count": 34,
   "id": "642051cb",
   "metadata": {},
   "outputs": [
    {
     "name": "stdout",
     "output_type": "stream",
     "text": [
      "Consistency: 0.7566602514229388\n"
     ]
    }
   ],
   "source": [
    "print(\"Consistency:\",ad_metrics.consistency()[0])"
   ]
  },
  {
   "cell_type": "markdown",
   "id": "ca72164b",
   "metadata": {},
   "source": [
    "The value is not very close to 1, so somewhat the individual fairness is also not exhibited properly by the data."
   ]
  },
  {
   "cell_type": "markdown",
   "id": "0057c5ee",
   "metadata": {},
   "source": [
    "#### FAIRNESS OF TEST DATA"
   ]
  },
  {
   "cell_type": "markdown",
   "id": "eb2b0e21",
   "metadata": {},
   "source": [
    "To train our model we will split our data into 2 parts i.e. a training data and a test data."
   ]
  },
  {
   "cell_type": "code",
   "execution_count": 35,
   "id": "171e7850",
   "metadata": {},
   "outputs": [],
   "source": [
    "dset_raw_trn, dset_raw_tst = data_adult.split([0.7], shuffle=True)"
   ]
  },
  {
   "cell_type": "markdown",
   "id": "3b4cc059",
   "metadata": {},
   "source": [
    "Taking a look at the fairness metrics for the test data and the proportion of protected group and labels, we get:"
   ]
  },
  {
   "cell_type": "code",
   "execution_count": 97,
   "id": "f120ca25",
   "metadata": {},
   "outputs": [
    {
     "data": {
      "image/png": "[encoded data removed]",
      "text/plain": [
       "<Figure size 720x576 with 1 Axes>"
      ]
     },
     "metadata": {
      "needs_background": "light"
     },
     "output_type": "display_data"
    }
   ],
   "source": [
    "plot_prop_prtced_grp_lab(dset_raw_tst, \"Proportion of Groups and Labels on Test Data\")"
   ]
  },
  {
   "cell_type": "code",
   "execution_count": 36,
   "id": "41768e7f",
   "metadata": {},
   "outputs": [
    {
     "name": "stdout",
     "output_type": "stream",
     "text": [
      "Statistical Parity Difference: -0.1867972998771832\n",
      "Disparate Impact: 0.3835940007074953\n",
      "Consistency: 0.7237971746400178\n"
     ]
    }
   ],
   "source": [
    "dset_raw_tst_metrics = BinaryLabelDatasetMetric(dset_raw_tst,\n",
    "                                      unprivileged_groups=unpriv_group,\n",
    "                                     privileged_groups=priv_group)\n",
    "print(\"Statistical Parity Difference:\",dset_raw_tst_metrics.statistical_parity_difference())\n",
    "print(\"Disparate Impact:\",dset_raw_tst_metrics.disparate_impact())\n",
    "print(\"Consistency:\",dset_raw_tst_metrics.consistency()[0])"
   ]
  },
  {
   "cell_type": "markdown",
   "id": "80ff2750",
   "metadata": {},
   "source": [
    "##### FITTING MODEL"
   ]
  },
  {
   "cell_type": "markdown",
   "id": "47a4b410",
   "metadata": {},
   "source": [
    "Now, we fit a Logistic Regression Model"
   ]
  },
  {
   "cell_type": "code",
   "execution_count": 37,
   "id": "fb8981e1",
   "metadata": {},
   "outputs": [],
   "source": [
    "scaler = StandardScaler()\n",
    "dset_trn = scaler.fit_transform(dset_raw_trn.features)\n",
    "y_trn = dset_raw_trn.labels.ravel()"
   ]
  },
  {
   "cell_type": "code",
   "execution_count": 38,
   "id": "d64cf9bf",
   "metadata": {},
   "outputs": [
    {
     "data": {
      "text/plain": [
       "LogisticRegression()"
      ]
     },
     "execution_count": 38,
     "metadata": {},
     "output_type": "execute_result"
    }
   ],
   "source": [
    "lmod= LogisticRegression(penalty='l2')\n",
    "lmod.fit(dset_trn, y_trn)"
   ]
  },
  {
   "cell_type": "code",
   "execution_count": 39,
   "id": "41ee7756",
   "metadata": {},
   "outputs": [],
   "source": [
    "dset_tst_pred = dset_raw_tst.copy(deepcopy=True)\n",
    "dset_tst = scaler.transform(dset_tst_pred.features)\n",
    "dset_tst_pred.labels = lmod.predict(dset_tst)"
   ]
  },
  {
   "cell_type": "code",
   "execution_count": 71,
   "id": "d8e160d2",
   "metadata": {},
   "outputs": [],
   "source": [
    "dset_tst_prob = lmod.predict_proba(dset_tst)[:,1]"
   ]
  },
  {
   "cell_type": "markdown",
   "id": "73725a41",
   "metadata": {},
   "source": [
    "#### FAIRNESS OF MODEL"
   ]
  },
  {
   "cell_type": "markdown",
   "id": "b7781414",
   "metadata": {},
   "source": [
    "Taking a look at the fairness metris for the model's predictions on the test data, we get:"
   ]
  },
  {
   "cell_type": "code",
   "execution_count": 40,
   "id": "10db3569",
   "metadata": {},
   "outputs": [
    {
     "name": "stdout",
     "output_type": "stream",
     "text": [
      "Statistical Parity Difference: -0.21217055052406636\n",
      "Disparate Impact: 0.0\n",
      "Consistency: 0.9998498600969085\n"
     ]
    }
   ],
   "source": [
    "dset_tst_pred_metrics = BinaryLabelDatasetMetric(dset_tst_pred,\n",
    "                                      unprivileged_groups=unpriv_group,\n",
    "                                     privileged_groups=priv_group)\n",
    "print(\"Statistical Parity Difference:\",dset_tst_pred_metrics.statistical_parity_difference())\n",
    "print(\"Disparate Impact:\",dset_tst_pred_metrics.disparate_impact())\n",
    "print(\"Consistency:\",dset_tst_pred_metrics.consistency())"
   ]
  },
  {
   "cell_type": "markdown",
   "id": "318c69c5",
   "metadata": {},
   "source": [
    "We see training without any fairness intervention made the fairness issue with the dataset even worse. Except for individual fairness the fairness between classes of protected group is poor. Taking a look at the proportion of unprivileged group individuals who were given the favorable label by the model and privileged group proportion for the same, we see the model exhibits fairness problem severely.It classified no protected privileged group individual to favorable label and classified all unprivileged group individual to unfavorable label."
   ]
  },
  {
   "cell_type": "code",
   "execution_count": 96,
   "id": "6d8086ac",
   "metadata": {},
   "outputs": [
    {
     "data": {
      "image/png": "[encoded data removed]",
      "text/plain": [
       "<Figure size 720x576 with 1 Axes>"
      ]
     },
     "metadata": {
      "needs_background": "light"
     },
     "output_type": "display_data"
    }
   ],
   "source": [
    "plot_prop_prtced_grp_lab(dset_tst_pred, \"Proportion of Groups and Labels of Model on Test Data\")"
   ]
  },
  {
   "cell_type": "markdown",
   "id": "27fc3729",
   "metadata": {},
   "source": [
    "We will now evaluate the fairness of our model using several of the definitions for model fairness we saw [before](Fair-Classifier.ipynb)."
   ]
  },
  {
   "cell_type": "code",
   "execution_count": 72,
   "id": "f2e58054",
   "metadata": {},
   "outputs": [
    {
     "name": "stdout",
     "output_type": "stream",
     "text": [
      "Accuracy: 0.8044086535180509\n",
      "Predictive Parity Difference: -0.6613908872901678\n",
      "FNR Difference: 0.4630624580255205\n",
      "Accuracy Difference: -0.1183125130653383\n",
      "Average Positive Class Difference: -0.25324331468908357\n",
      "Average Negative Class Difference: -0.13724064726347057\n"
     ]
    }
   ],
   "source": [
    "mod_metrics = ClassificationMetric(dset_raw_tst, dset_tst_pred,\n",
    "                                            unprivileged_groups=unpriv_group,\n",
    "                                            privileged_groups=priv_group)\n",
    "print(\"Accuracy:\", mod_metrics.accuracy())\n",
    "print(\"Predictive Parity Difference:\", mod_metrics.positive_predictive_value(False)-mod_metrics.positive_predictive_value(True))\n",
    "print(\"FNR Difference:\", mod_metrics.false_negative_rate_difference())\n",
    "print(\"Accuracy Difference:\", mod_metrics.error_rate_difference())\n",
    "print(\"Average Positive Class Difference:\", np.mean(dset_tst_prob[(dset_raw_tst.labels.ravel() == 1.)&(dset_raw_tst.features[:,1].ravel() == 0.)])\n",
    "                                        - np.mean(dset_tst_prob[(dset_raw_tst.labels.ravel() == 1.)&(dset_raw_tst.features[:,1].ravel() == 1.)]))\n",
    "print(\"Average Negative Class Difference:\", np.mean(dset_tst_prob[(dset_raw_tst.labels.ravel() == 0.)&(dset_raw_tst.features[:,1].ravel() == 0.)])\n",
    "                                        - np.mean(dset_tst_prob[(dset_raw_tst.labels.ravel() == 0.)&(dset_raw_tst.features[:,1].ravel() == 1.)]))"
   ]
  },
  {
   "cell_type": "markdown",
   "id": "f680056b",
   "metadata": {},
   "source": [
    "We see above that:\n",
    "- Even though the model accuracy is good, it severely shows fairness issue as none of the difference values are close to 0. \n",
    "- Again, the same trend is seen that the unprivileged group gets the unfavorable label much more than the privileged group.\n",
    "- A high value of FNR difference indicates the model wrongly labels unprivileged group individuals to unfavorable label.\n",
    "- On an average our model predicts favorable outcome 25% more for privileged group compared to that of unprivileged group, where the individuals of both groups actually have a favorable outcome.\n",
    "- On an average our model predicts favorable outcome 13.7% more for privileged group compared to that of unprivileged group, where the individuals of both groups actually have a unfavorable outcome."
   ]
  }
 ],
 "metadata": {
  "authors": [
   {
    "name": "Rishi Dey Chowdhury"
   }
  ],
  "kernelspec": {
   "display_name": "Python 3",
   "language": "python",
   "name": "python3"
  },
  "language_info": {
   "codemirror_mode": {
    "name": "ipython",
    "version": 3
   },
   "file_extension": ".py",
   "mimetype": "text/x-python",
   "name": "python",
   "nbconvert_exporter": "python",
   "pygments_lexer": "ipython3",
   "version": "3.6.8"
  },
  "title": "Fairness Definitions Comparison"
 },
 "nbformat": 4,
 "nbformat_minor": 5
}
