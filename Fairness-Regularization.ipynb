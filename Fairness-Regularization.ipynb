{
 "cells": [
  {
   "cell_type": "markdown",
   "id": "a92ff054",
   "metadata": {},
   "source": [
    "## FAIRNESS BY REGULARIZATION"
   ]
  },
  {
   "cell_type": "markdown",
   "id": "ecd6bbb5",
   "metadata": {},
   "source": [
    "Here we will see how we can use the popular variance reduction technique in machine learning model to get a fair trained classifier. We will be using the [Adult Dataset](https://archive.ics.uci.edu/ml/datasets/adult) for our demonstration purpose."
   ]
  },
  {
   "cell_type": "markdown",
   "id": "f9e0f7ad",
   "metadata": {},
   "source": [
    "### IMPORTNG THE NECESSARY LIBRARIES"
   ]
  },
  {
   "cell_type": "markdown",
   "id": "8c0285e3",
   "metadata": {},
   "source": [
    "We will be using the open-source [AIF360](https://github.com/Trusted-AI/AIF360) package to use several fairness based metrics."
   ]
  },
  {
   "cell_type": "code",
   "execution_count": 1,
   "id": "11ca401a",
   "metadata": {},
   "outputs": [],
   "source": [
    "import numpy as np\n",
    "np.set_printoptions(suppress = True)\n",
    "import pandas as pd\n",
    "\n",
    "import matplotlib.pyplot as plt\n",
    "\n",
    "# Importing the Dataset\n",
    "from aif360.datasets import AdultDataset\n",
    "from aif360.algorithms.preprocessing.optim_preproc_helpers.data_preproc_functions import load_preproc_data_adult\n",
    "\n",
    "from aif360.datasets import BinaryLabelDataset\n",
    "from aif360.metrics import BinaryLabelDatasetMetric, ClassificationMetric\n",
    "\n",
    "from aif360.metrics.utils import compute_boolean_conditioning_vector\n",
    "from common_utils import compute_metrics\n",
    "\n",
    "from sklearn.linear_model import LogisticRegression\n",
    "from sklearn.preprocessing import StandardScaler\n",
    "\n",
    "import torch\n",
    "import torch.nn as nn"
   ]
  },
  {
   "cell_type": "markdown",
   "id": "cd0158b8",
   "metadata": {},
   "source": [
    "### DATASET"
   ]
  },
  {
   "cell_type": "code",
   "execution_count": 2,
   "id": "e85aa6ea",
   "metadata": {},
   "outputs": [],
   "source": [
    "priv_group = [{'sex':1}]\n",
    "unpriv_group = [{'sex':0}]"
   ]
  },
  {
   "cell_type": "code",
   "execution_count": 3,
   "id": "d49036bd",
   "metadata": {},
   "outputs": [],
   "source": [
    "data_adult = load_preproc_data_adult(['sex'])"
   ]
  },
  {
   "cell_type": "markdown",
   "id": "833575e0",
   "metadata": {},
   "source": [
    "### FAIRNESS BASED REGULARIZED CLASSIFIER"
   ]
  },
  {
   "cell_type": "markdown",
   "id": "5ab218c3",
   "metadata": {},
   "source": [
    "Here we will fit a regularized logistic regression classifier using different regularization terms for each trained model, to compare the results in terms of accuracy and fairness levels achieved by the model."
   ]
  },
  {
   "cell_type": "markdown",
   "id": "78545b87",
   "metadata": {},
   "source": [
    "#### - EQUALISED ODDS REGULARIZATION"
   ]
  },
  {
   "cell_type": "markdown",
   "id": "a1d2a757",
   "metadata": {},
   "source": [
    "- **METHOD**\n",
    "\n",
    "Here we will try to achieve a classifier with equalized odds using a regularization term in the loss function which has difference in the values of FPR and FNR for both the classes as shown below:"
   ]
  },
  {
   "cell_type": "markdown",
   "id": "4451c397",
   "metadata": {},
   "source": [
    "$$Loss(\\theta;G,X)\\ =\\ -ll(\\theta;G,X) + C_1|FPR(G=f)-FPR(G=m)|\\\\ + C_2|FNR(G=f)-FNR(G=m)| + \\frac{1}{2}C_3||\\theta||_2^2$$\n",
    "where, \n",
    "$$ll(\\theta;G,X) = \\sum_{i=1}^n y_i\\log(S(x_i^T.\\theta))+(1-y_i)\\log(1-S(x_i^T.\\theta))\\\\ S(x) = \\frac{1}{1+e^{-x}}$$\n",
    "and $\\theta$ represents the weights and biases of the model and $G,X$ is the given data.\n",
    "\n",
    "We want to find the optimal value of $\\theta^*$ such that,\n",
    "$\\DeclareMathOperator*{\\argmin}{arg\\,min}$\n",
    "$$\\theta^* = \\argmin_\\theta Loss(\\theta;G,X)$$\n",
    "\n",
    "To solve this above optimization problem, we use gradient descent, starting with an initial value of $\\theta_0$, we update the weights and biases as follows,\n",
    "$$\\theta^{n+1} = \\theta^{n} - lr\\cdot \\frac{\\partial Loss(\\theta;G,X)}{\\partial \\theta}$$\n",
    "where, $lr$ is the learning rate.\n",
    "\n",
    "We will use the common variant of the gradient descent, Stochastic Gradient Descent."
   ]
  },
  {
   "cell_type": "markdown",
   "id": "2288581d",
   "metadata": {},
   "source": [
    "- **IMPLEMENTATION**"
   ]
  },
  {
   "cell_type": "markdown",
   "id": "531507c7",
   "metadata": {},
   "source": [
    "To train our model, we will split our data into 2 parts i.e. training data and a test data"
   ]
  },
  {
   "cell_type": "code",
   "execution_count": 4,
   "id": "ddefe99d",
   "metadata": {},
   "outputs": [],
   "source": [
    "dset_raw_trn, dset_raw_tst = data_adult.split([0.7], shuffle=True)"
   ]
  },
  {
   "cell_type": "code",
   "execution_count": 5,
   "id": "ec4952e7",
   "metadata": {},
   "outputs": [],
   "source": [
    "dset_trn_pred = dset_raw_trn.copy(deepcopy=True)"
   ]
  },
  {
   "cell_type": "markdown",
   "id": "5314a322",
   "metadata": {},
   "source": [
    "Taking a look at the fairness metrics for the test data and the proportion of protected group and labels, we get:"
   ]
  },
  {
   "cell_type": "code",
   "execution_count": 6,
   "id": "28e7a673",
   "metadata": {},
   "outputs": [],
   "source": [
    "def plot_prop_prtced_grp_lab(data, title=\"\", figsize=(10,8)):\n",
    "    feature_idx = np.where(np.array(data.feature_names) == data.protected_attribute_names[0])[0][0]\n",
    "    n_p_fav = len(np.where(np.logical_and(data.features[:,feature_idx] == data.privileged_protected_attributes[0],data.labels == data.favorable_label) == True)[0])\n",
    "    n_unp_fav = len(np.where(np.logical_and(data.features[:,feature_idx] == data.unprivileged_protected_attributes[0],data.labels == data.favorable_label) == True)[0])\n",
    "    n_p_unfav = len(np.where(np.logical_and(data.features[:,feature_idx] == data.privileged_protected_attributes[0],data.labels == data.unfavorable_label) == True)[0])\n",
    "    n_unp_unfav = len(np.where(np.logical_and(data.features[:,feature_idx] == data.unprivileged_protected_attributes[0],data.labels == data.unfavorable_label) == True)[0])\n",
    "    plt.figure(figsize=figsize)\n",
    "    xlocs = [i for i in range(4)]\n",
    "    y = [n_p_fav/(n_p_fav+n_p_unfav), n_unp_fav/(n_unp_fav+n_unp_unfav), n_p_unfav/(n_p_fav+n_p_unfav), n_unp_unfav/(n_unp_fav+n_unp_unfav)]\n",
    "    plt.bar(['priv grp,fav label','unpriv grp,fav label', 'priv grp,unfav label', 'unpriv grp,unfav label'], y)\n",
    "    for i, v in enumerate(y):\n",
    "        plt.text(xlocs[i] - 0.05, v + 0.01, str(round(v,2)))\n",
    "    plt.title(title)\n",
    "    plt.show()"
   ]
  },
  {
   "cell_type": "code",
   "execution_count": 7,
   "id": "9c584b86",
   "metadata": {},
   "outputs": [
    {
     "name": "stdout",
     "output_type": "stream",
     "text": [
      "Statistical Parity Difference: -0.1938973662712821\n",
      "Disparate Impact: 0.3580079818650716\n",
      "Consistency: 0.7410278159642156\n"
     ]
    }
   ],
   "source": [
    "dset_raw_trn_metrics = BinaryLabelDatasetMetric(dset_raw_trn,\n",
    "                                      unprivileged_groups=unpriv_group,\n",
    "                                     privileged_groups=priv_group)\n",
    "print(\"Statistical Parity Difference:\",dset_raw_trn_metrics.statistical_parity_difference())\n",
    "print(\"Disparate Impact:\",dset_raw_trn_metrics.disparate_impact())\n",
    "print(\"Consistency:\",dset_raw_trn_metrics.consistency()[0])"
   ]
  },
  {
   "cell_type": "markdown",
   "id": "586c6a85",
   "metadata": {},
   "source": [
    "We see the training data is quite unfair. The statistical parity difference is significantly below 0 implying the data shows disfavor of the unprivileged group to the favorable outcome. Disparate Impact close to 0 also shows that."
   ]
  },
  {
   "cell_type": "markdown",
   "id": "1aab9155",
   "metadata": {},
   "source": [
    "- **FITTING MODELS**\n",
    "    - No Fairness Regularized Classifier (Model: $M$)\n",
    "    - Equalized Odd Regularized Classifier (Model: $M_F$)"
   ]
  },
  {
   "cell_type": "markdown",
   "id": "a3f34776",
   "metadata": {},
   "source": [
    "Standardizing the training dataset"
   ]
  },
  {
   "cell_type": "code",
   "execution_count": 8,
   "id": "f13816ba",
   "metadata": {},
   "outputs": [],
   "source": [
    "scaler = StandardScaler()\n",
    "dset_trn = scaler.fit_transform(dset_raw_trn.features)\n",
    "y_trn = dset_raw_trn.labels.ravel()\n",
    "dset_trn = torch.from_numpy(dset_trn).float()\n",
    "y_trn = torch.from_numpy(y_trn).float()\n",
    "y_trn = y_trn.view(y_trn.shape[0], 1)"
   ]
  },
  {
   "cell_type": "markdown",
   "id": "284eecbb",
   "metadata": {},
   "source": [
    "Logistic Regression Class as needed by PyTorch"
   ]
  },
  {
   "cell_type": "code",
   "execution_count": 9,
   "id": "66a0d43d",
   "metadata": {},
   "outputs": [],
   "source": [
    "class Log_Reg(nn.Module):\n",
    "    def __init__(self, size_in):\n",
    "        super().__init__()\n",
    "        self.linear = nn.Linear(size_in, 1)\n",
    "    def forward(self, x):\n",
    "        prob_pred = torch.sigmoid(self.linear(x))\n",
    "        return prob_pred"
   ]
  },
  {
   "cell_type": "markdown",
   "id": "a2392f35",
   "metadata": {},
   "source": [
    "Below are the two models $M$ and $M_F$ as mentioned before"
   ]
  },
  {
   "cell_type": "code",
   "execution_count": 20,
   "id": "28708317",
   "metadata": {},
   "outputs": [],
   "source": [
    "M = Log_Reg(len(dset_raw_trn.feature_names)) # Non-Fairness Based Regularized Model\n",
    "M_F = Log_Reg(len(dset_raw_trn.feature_names)) # Fairness Based Regularization Model"
   ]
  },
  {
   "cell_type": "code",
   "execution_count": 26,
   "id": "6841bb41",
   "metadata": {},
   "outputs": [],
   "source": [
    "num_epochs = 2000 # Number of Epochs\n",
    "learning_rate = 0.01 # Learning Rate\n",
    "\n",
    "# Stochastic Gradient Descent Optimizers\n",
    "optimizer_M = torch.optim.SGD(M.parameters(), lr= learning_rate)\n",
    "optimizer_M_F = torch.optim.SGD(M_F.parameters(), lr= learning_rate)\n",
    "\n",
    "# Binary Cross Entropy Loss Functions\n",
    "criterion = nn.BCELoss()\n",
    "criterion_f = nn.BCELoss()"
   ]
  },
  {
   "cell_type": "code",
   "execution_count": 22,
   "id": "ea3ba533",
   "metadata": {},
   "outputs": [],
   "source": [
    "# Used Values in the FPR and FNR Score Diffs\n",
    "trn_data_metric = BinaryLabelDatasetMetric(dset_raw_trn, \n",
    "                                           unprivileged_groups=unpriv_group,\n",
    "                                          privileged_groups=priv_group)\n",
    "NA_pos = trn_data_metric.num_positives(True)\n",
    "NA_neg = trn_data_metric.num_negatives(True)\n",
    "NB_pos = trn_data_metric.num_positives(False)\n",
    "NB_neg = trn_data_metric.num_negatives(False)"
   ]
  },
  {
   "cell_type": "markdown",
   "id": "b1a873bd",
   "metadata": {},
   "source": [
    "Defining the fairness based regularization functions"
   ]
  },
  {
   "cell_type": "code",
   "execution_count": 23,
   "id": "11aeee13",
   "metadata": {},
   "outputs": [],
   "source": [
    "def fnr_score_diff(p_pred):\n",
    "    FNR_A = torch.sum(p_pred[:,0][np.logical_and((dset_raw_trn.features[:,1] == 1),(dset_raw_trn.labels.ravel() == 1))])\n",
    "    FNR_B = torch.sum(p_pred[:,0][np.logical_and((dset_raw_trn.features[:,1] == 0),(dset_raw_trn.labels.ravel() == 1))])\n",
    "    return torch.abs(-FNR_A/NA_pos + FNR_B/NB_pos)\n",
    "\n",
    "def fpr_score_diff(p_pred):\n",
    "    FPR_A = torch.sum(p_pred[:,0][np.logical_and((dset_raw_trn.features[:,1] == 1),(dset_raw_trn.labels.ravel() == 0))])\n",
    "    FPR_B = torch.sum(p_pred[:,0][np.logical_and((dset_raw_trn.features[:,1] == 0),(dset_raw_trn.labels.ravel() == 0))])\n",
    "    return torch.abs(-FPR_A/NA_neg + FPR_B/NB_neg)\n",
    "\n",
    "# Fairness Based Regularized Loss\n",
    "def loss_f(p_pred, y, C1=1, C2=1):\n",
    "    return criterion_f(p_pred, y_trn) + C1*fpr_score_diff(p_pred) + C2*fnr_score_diff(p_pred)"
   ]
  },
  {
   "cell_type": "markdown",
   "id": "0c206e46",
   "metadata": {},
   "source": [
    "Training the non-fairness regularized Model $M$"
   ]
  },
  {
   "cell_type": "code",
   "execution_count": 24,
   "id": "ff671cb4",
   "metadata": {},
   "outputs": [
    {
     "name": "stdout",
     "output_type": "stream",
     "text": [
      "Training M:\n",
      "epoch: 500, loss = 0.4649\n",
      "epoch: 1000, loss = 0.4359\n",
      "epoch: 1500, loss = 0.4270\n",
      "epoch: 2000, loss = 0.4232\n",
      "epoch: 2500, loss = 0.4214\n",
      "epoch: 3000, loss = 0.4204\n",
      "epoch: 3500, loss = 0.4198\n",
      "epoch: 4000, loss = 0.4195\n",
      "epoch: 4500, loss = 0.4192\n",
      "epoch: 5000, loss = 0.4190\n",
      "Trained M's Performance on Training Data:\n",
      "Accuracy: 0.80666296177133\n",
      "Predictive Parity Difference: -0.6578128242373936\n",
      "FNR Difference: 0.45895468365426384\n",
      "FPR Difference: -0.10330785615837615\n",
      "Accuracy Difference: -0.12738811794385196\n",
      "Statistical Parity Difference: -0.21072193799466526\n",
      "Disparate Impact: 0.0\n",
      "Consistency: 0.7410278159642156\n"
     ]
    }
   ],
   "source": [
    "# Training M\n",
    "print(\"Training M:\")\n",
    "for epoch in range(num_epochs):\n",
    "    p_pred = M(dset_trn)\n",
    "    loss= criterion(p_pred, y_trn)\n",
    "    \n",
    "    loss.backward()\n",
    "    optimizer_M.step()\n",
    "    \n",
    "    optimizer_M.zero_grad()\n",
    "    \n",
    "    if (epoch+1) % 500== 0:\n",
    "        print(f'epoch: {epoch+1}, loss = {loss.item():.4f}')\n",
    "        \n",
    "print(\"Trained M's Performance on Training Data:\")        \n",
    "with torch.no_grad():\n",
    "    dset_trn_pred.labels = (p_pred > 0.5).numpy().astype(float)\n",
    "    \n",
    "    mod_metrics = ClassificationMetric(dset_raw_trn, dset_trn_pred,\n",
    "                                        unprivileged_groups=unpriv_group,\n",
    "                                        privileged_groups=priv_group)\n",
    "    print(\"Accuracy:\", mod_metrics.accuracy())\n",
    "    print(\"Predictive Parity Difference:\", mod_metrics.positive_predictive_value(False)-mod_metrics.positive_predictive_value(True))\n",
    "    print(\"FNR Difference:\", mod_metrics.false_negative_rate_difference())\n",
    "    print(\"FPR Difference:\", mod_metrics.false_positive_rate_difference())\n",
    "    print(\"Accuracy Difference:\", mod_metrics.error_rate_difference())\n",
    "    print(\"Statistical Parity Difference:\",mod_metrics.statistical_parity_difference())\n",
    "    print(\"Disparate Impact:\",mod_metrics.disparate_impact())\n",
    "    print(\"Consistency:\",mod_metrics.consistency()[0])"
   ]
  },
  {
   "cell_type": "markdown",
   "id": "8086c204",
   "metadata": {},
   "source": [
    "The above model without any fairness intervention performs very bad in terms of fairness. We have seen this before in the [Adult Dataset Model](Fairness-Definitios-Comparison.ipynb)"
   ]
  },
  {
   "cell_type": "markdown",
   "id": "969fc1e6",
   "metadata": {},
   "source": [
    "Training Fairness Regularized Model $M_F$"
   ]
  },
  {
   "cell_type": "code",
   "execution_count": 25,
   "id": "b2ac6cb2",
   "metadata": {},
   "outputs": [
    {
     "name": "stdout",
     "output_type": "stream",
     "text": [
      "Training M_F:\n",
      "epoch: 500, loss = 0.4914\n",
      "epoch: 1000, loss = 0.4570\n",
      "epoch: 1500, loss = 0.4505\n",
      "epoch: 2000, loss = 0.4439\n",
      "epoch: 2500, loss = 0.4466\n",
      "epoch: 3000, loss = 0.4432\n",
      "epoch: 3500, loss = 0.4411\n",
      "epoch: 4000, loss = 0.4428\n",
      "epoch: 4500, loss = 0.4408\n",
      "epoch: 5000, loss = 0.4406\n",
      "Trained M_F's Performance on Training Data:\n",
      "Accuracy: 0.7914826406154026\n",
      "Predictive Parity Difference: -0.30721214375468764\n",
      "FNR Difference: 0.002069866603076731\n",
      "FPR Difference: -0.0006647001962465926\n",
      "Accuracy Difference: -0.0932939833839288\n",
      "Statistical Parity Difference: -0.06507948869015365\n",
      "Disparate Impact: 0.6658502858430346\n",
      "Consistency: 0.7410278159642156\n"
     ]
    }
   ],
   "source": [
    "# Training M_F\n",
    "print(\"Training M_F:\")\n",
    "for epoch in range(num_epochs):\n",
    "    p_pred = M_F(dset_trn)\n",
    "    \n",
    "    loss= loss_f(p_pred, y_trn)\n",
    "    \n",
    "    loss.backward()\n",
    "    optimizer_M_F.step()\n",
    "    \n",
    "    optimizer_M_F.zero_grad()\n",
    "    \n",
    "    if (epoch+1) % 500== 0:\n",
    "        print(f'epoch: {epoch+1}, loss = {loss.item():.4f}')\n",
    "\n",
    "print(\"Trained M_F's Performance on Training Data:\")  \n",
    "with torch.no_grad():\n",
    "    dset_trn_pred.labels = (p_pred > 0.5).numpy().astype(float)\n",
    "    \n",
    "    mod_metrics = ClassificationMetric(dset_raw_trn, dset_trn_pred,\n",
    "                                        unprivileged_groups=unpriv_group,\n",
    "                                        privileged_groups=priv_group)\n",
    "    print(\"Accuracy:\", mod_metrics.accuracy())\n",
    "    print(\"Predictive Parity Difference:\", mod_metrics.positive_predictive_value(False)-mod_metrics.positive_predictive_value(True))\n",
    "    print(\"FNR Difference:\", mod_metrics.false_negative_rate_difference())\n",
    "    print(\"FPR Difference:\", mod_metrics.false_positive_rate_difference())\n",
    "    print(\"Accuracy Difference:\", mod_metrics.error_rate_difference())\n",
    "    print(\"Statistical Parity Difference:\",mod_metrics.statistical_parity_difference())\n",
    "    print(\"Disparate Impact:\",mod_metrics.disparate_impact())\n",
    "    print(\"Consistency:\",mod_metrics.consistency()[0])"
   ]
  },
  {
   "cell_type": "markdown",
   "id": "2074bc2a",
   "metadata": {},
   "source": [
    "We see the fairness regularized model makes the training data much more fairer at a small cost of accuracy."
   ]
  },
  {
   "cell_type": "markdown",
   "id": "86b9cbf7",
   "metadata": {},
   "source": [
    "From the training set performance we see that the model accuracy decreased by 1.3% but this helped us achieve a fairer classifier with very low FNR and FPR values, Predictive Parity Difference also decreased substantially and accuracy difference became nearer to 0."
   ]
  },
  {
   "cell_type": "markdown",
   "id": "6fe1df8d",
   "metadata": {},
   "source": [
    "- **EVALUATING MODELS**"
   ]
  },
  {
   "cell_type": "markdown",
   "id": "64184bc8",
   "metadata": {},
   "source": [
    "Looking at the fairness metric and proportion histogram of the test set, we see:"
   ]
  },
  {
   "cell_type": "code",
   "execution_count": 27,
   "id": "72a89329",
   "metadata": {},
   "outputs": [
    {
     "data": {
      "image/png": "[encoded data removed]",
      "text/plain": [
       "<Figure size 720x576 with 1 Axes>"
      ]
     },
     "metadata": {
      "needs_background": "light"
     },
     "output_type": "display_data"
    },
    {
     "name": "stdout",
     "output_type": "stream",
     "text": [
      "Statistical Parity Difference: -0.19597802297238925\n",
      "Disparate Impact: 0.3633805902713586\n",
      "Consistency: 0.7172319661502926\n"
     ]
    }
   ],
   "source": [
    "plot_prop_prtced_grp_lab(dset_raw_tst, \"Proportion of Groups and Labels on Test Data\")\n",
    "dset_raw_tst_metrics = BinaryLabelDatasetMetric(dset_raw_tst,\n",
    "                                      unprivileged_groups=unpriv_group,\n",
    "                                     privileged_groups=priv_group)\n",
    "print(\"Statistical Parity Difference:\",dset_raw_tst_metrics.statistical_parity_difference())\n",
    "print(\"Disparate Impact:\",dset_raw_tst_metrics.disparate_impact())\n",
    "print(\"Consistency:\",dset_raw_tst_metrics.consistency()[0])"
   ]
  },
  {
   "cell_type": "markdown",
   "id": "7d4cf879",
   "metadata": {},
   "source": [
    "Looking at the Model $M$'s performance on the test set"
   ]
  },
  {
   "cell_type": "code",
   "execution_count": 29,
   "id": "a14afdde",
   "metadata": {},
   "outputs": [],
   "source": [
    "dset_tst_pred = dset_raw_tst.copy(deepcopy=True)\n",
    "dset_tst = scaler.transform(dset_tst_pred.features)\n",
    "dset_tst_pred.labels = (M(torch.from_numpy(dset_tst).float()) > 0.5).numpy().astype(float)"
   ]
  },
  {
   "cell_type": "code",
   "execution_count": 30,
   "id": "be4ff6a1",
   "metadata": {},
   "outputs": [
    {
     "data": {
      "image/png": "[encoded data removed]",
      "text/plain": [
       "<Figure size 720x576 with 1 Axes>"
      ]
     },
     "metadata": {
      "needs_background": "light"
     },
     "output_type": "display_data"
    },
    {
     "name": "stdout",
     "output_type": "stream",
     "text": [
      "Accuracy: 0.7986760390363749\n",
      "Predictive Parity Difference: -0.6419868791002812\n",
      "FNR Difference: 0.45499833942211887\n",
      "FPR Difference: -0.11285081240768094\n",
      "Accuracy Difference: -0.13402116784510165\n",
      "Statistical Parity Difference: -0.21817810039873223\n",
      "Disparate Impact: 0.0\n",
      "Consistency: 0.7172319661502926\n"
     ]
    }
   ],
   "source": [
    "mod_metrics = ClassificationMetric(dset_raw_tst, dset_tst_pred,\n",
    "                                    unprivileged_groups=unpriv_group,\n",
    "                                    privileged_groups=priv_group)\n",
    "plot_prop_prtced_grp_lab(dset_tst_pred, \"Proportion of Groups and Labels on Model M Predicted Test Data Labels\")\n",
    "print(\"Accuracy:\", mod_metrics.accuracy())\n",
    "print(\"Predictive Parity Difference:\", mod_metrics.positive_predictive_value(False)-mod_metrics.positive_predictive_value(True))\n",
    "print(\"FNR Difference:\", mod_metrics.false_negative_rate_difference())\n",
    "print(\"FPR Difference:\", mod_metrics.false_positive_rate_difference())\n",
    "print(\"Accuracy Difference:\", mod_metrics.error_rate_difference())\n",
    "print(\"Statistical Parity Difference:\",mod_metrics.statistical_parity_difference())\n",
    "print(\"Disparate Impact:\",mod_metrics.disparate_impact())\n",
    "print(\"Consistency:\",mod_metrics.consistency()[0])"
   ]
  },
  {
   "cell_type": "markdown",
   "id": "998080b2",
   "metadata": {},
   "source": [
    "Looking at the Model $M_F$'s performance on the test set"
   ]
  },
  {
   "cell_type": "code",
   "execution_count": 31,
   "id": "d631f163",
   "metadata": {},
   "outputs": [],
   "source": [
    "dset_tst_pred = dset_raw_tst.copy(deepcopy=True)\n",
    "dset_tst = scaler.transform(dset_tst_pred.features)\n",
    "dset_tst_pred.labels = (M_F(torch.from_numpy(dset_tst).float()) > 0.5).numpy().astype(float)"
   ]
  },
  {
   "cell_type": "code",
   "execution_count": 32,
   "id": "35abf3ec",
   "metadata": {},
   "outputs": [
    {
     "data": {
      "image/png": "[encoded data removed]",
      "text/plain": [
       "<Figure size 720x576 with 1 Axes>"
      ]
     },
     "metadata": {
      "needs_background": "light"
     },
     "output_type": "display_data"
    },
    {
     "name": "stdout",
     "output_type": "stream",
     "text": [
      "Accuracy: 0.7848222207056575\n",
      "Predictive Parity Difference: -0.30996413395934336\n",
      "FNR Difference: 0.033759395976221684\n",
      "FPR Difference: -0.006075144254123477\n",
      "Accuracy Difference: -0.09327698182982358\n",
      "Statistical Parity Difference: -0.07342810841501124\n",
      "Disparate Impact: 0.6385504134840337\n",
      "Consistency: 0.7172319661502926\n"
     ]
    }
   ],
   "source": [
    "mod_metrics = ClassificationMetric(dset_raw_tst, dset_tst_pred,\n",
    "                                    unprivileged_groups=unpriv_group,\n",
    "                                    privileged_groups=priv_group)\n",
    "plot_prop_prtced_grp_lab(dset_tst_pred, \"Proportion of Groups and Labels on Model M_F Predicted Test Data Labels\")\n",
    "print(\"Accuracy:\", mod_metrics.accuracy())\n",
    "print(\"Predictive Parity Difference:\", mod_metrics.positive_predictive_value(False)-mod_metrics.positive_predictive_value(True))\n",
    "print(\"FNR Difference:\", mod_metrics.false_negative_rate_difference())\n",
    "print(\"FPR Difference:\", mod_metrics.false_positive_rate_difference())\n",
    "print(\"Accuracy Difference:\", mod_metrics.error_rate_difference())\n",
    "print(\"Statistical Parity Difference:\",mod_metrics.statistical_parity_difference())\n",
    "print(\"Disparate Impact:\",mod_metrics.disparate_impact())\n",
    "print(\"Consistency:\",mod_metrics.consistency()[0])"
   ]
  },
  {
   "cell_type": "markdown",
   "id": "f8c0de2a",
   "metadata": {},
   "source": [
    "The performance on the testing set is pretty good in terms of fairness on the test set for $M_F$ compared to $M$. The loss in accuracy of $1.3\\%$ still holds here. Hence, our equalized odd regularizer turned out pretty effective in enforcing fairness from the model trained on unfair data. Even the predictive parity and statistical parity difference is brought close to 0 and disparate impact which was 0 in case of $M$, here in case of $M_F$ even though less than $80\\%$ is still better than $M$. "
   ]
  },
  {
   "cell_type": "code",
   "execution_count": null,
   "id": "99fce3d8",
   "metadata": {},
   "outputs": [],
   "source": []
  }
 ],
 "metadata": {
  "kernelspec": {
   "display_name": "Python 3",
   "language": "python",
   "name": "python3"
  },
  "language_info": {
   "codemirror_mode": {
    "name": "ipython",
    "version": 3
   },
   "file_extension": ".py",
   "mimetype": "text/x-python",
   "name": "python",
   "nbconvert_exporter": "python",
   "pygments_lexer": "ipython3",
   "version": "3.6.8"
  }
 },
 "nbformat": 4,
 "nbformat_minor": 5
}
