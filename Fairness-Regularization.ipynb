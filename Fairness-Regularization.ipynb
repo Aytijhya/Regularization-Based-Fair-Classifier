{
 "cells": [
  {
   "cell_type": "markdown",
   "id": "a92ff054",
   "metadata": {},
   "source": [
    "## FAIRNESS BY REGULARIZATION"
   ]
  },
  {
   "cell_type": "markdown",
   "id": "ecd6bbb5",
   "metadata": {},
   "source": [
    "Here we will see how we can use the popular variance reduction technique in machine learning model to get a fair trained classifier. We will be using the [Adult Dataset](https://archive.ics.uci.edu/ml/datasets/adult) for our demonstration purpose."
   ]
  },
  {
   "cell_type": "markdown",
   "id": "f9e0f7ad",
   "metadata": {},
   "source": [
    "### IMPORTNG THE NECESSARY LIBRARIES"
   ]
  },
  {
   "cell_type": "markdown",
   "id": "8c0285e3",
   "metadata": {},
   "source": [
    "We will be using the open-source [AIF360](https://github.com/Trusted-AI/AIF360) package to use several fairness based metrics."
   ]
  },
  {
   "cell_type": "code",
   "execution_count": 1,
   "id": "11ca401a",
   "metadata": {},
   "outputs": [],
   "source": [
    "import numpy as np\n",
    "np.set_printoptions(suppress = True)\n",
    "import pandas as pd\n",
    "\n",
    "import matplotlib.pyplot as plt\n",
    "\n",
    "# Importing the Dataset\n",
    "from aif360.datasets import AdultDataset\n",
    "from aif360.algorithms.preprocessing.optim_preproc_helpers.data_preproc_functions import load_preproc_data_adult\n",
    "\n",
    "from aif360.datasets import BinaryLabelDataset\n",
    "from aif360.metrics import BinaryLabelDatasetMetric, ClassificationMetric\n",
    "\n",
    "from aif360.metrics.utils import compute_boolean_conditioning_vector\n",
    "from common_utils import compute_metrics\n",
    "\n",
    "from sklearn.linear_model import LogisticRegression\n",
    "from sklearn.preprocessing import StandardScaler\n",
    "\n",
    "import torch\n",
    "import torch.nn as nn"
   ]
  },
  {
   "cell_type": "markdown",
   "id": "cd0158b8",
   "metadata": {},
   "source": [
    "### DATASET"
   ]
  },
  {
   "cell_type": "code",
   "execution_count": 2,
   "id": "e85aa6ea",
   "metadata": {},
   "outputs": [],
   "source": [
    "priv_group = [{'sex':1}]\n",
    "unpriv_group = [{'sex':0}]"
   ]
  },
  {
   "cell_type": "code",
   "execution_count": 3,
   "id": "d49036bd",
   "metadata": {},
   "outputs": [],
   "source": [
    "data_adult = load_preproc_data_adult(['sex'])"
   ]
  },
  {
   "cell_type": "markdown",
   "id": "833575e0",
   "metadata": {},
   "source": [
    "### FAIRNESS BASED REGULARIZED CLASSIFIER"
   ]
  },
  {
   "cell_type": "markdown",
   "id": "5ab218c3",
   "metadata": {},
   "source": [
    "Here we will fit a regularized logistic regression classifier using different regularization terms for each trained model, to compare the results in terms of accuracy and fairness levels achieved by the model."
   ]
  },
  {
   "cell_type": "markdown",
   "id": "78545b87",
   "metadata": {},
   "source": [
    "#### - EQUALISED ODDS REGULARIZATION"
   ]
  },
  {
   "cell_type": "markdown",
   "id": "a1d2a757",
   "metadata": {},
   "source": [
    "- **METHOD**\n",
    "\n",
    "Here we will try to achieve a classifier with equalized odds using a regularization term in the loss function which has difference in the values of FPR and FNR for both the classes as shown below:"
   ]
  },
  {
   "cell_type": "markdown",
   "id": "4451c397",
   "metadata": {},
   "source": [
    "$$Loss(\\theta;G,X)\\ =\\ -ll(\\theta;G,X) + C_1|FPR(G=f)-FPR(G=m)|\\\\ + C_2|FNR(G=f)-FNR(G=m)| + \\frac{1}{2}C_3||\\theta||_2^2$$\n",
    "where, \n",
    "$$ll(\\theta;G,X) = \\sum_{i=1}^n y_i\\log(S(x_i^T.\\theta))+(1-y_i)\\log(1-S(x_i^T.\\theta))\\\\ S(x) = \\frac{1}{1+e^{-x}}$$\n",
    "and $\\theta$ represents the weights and biases of the model and $G,X$ is the given data.\n",
    "\n",
    "We want to find the optimal value of $\\theta^*$ such that,\n",
    "$\\DeclareMathOperator*{\\argmin}{arg\\,min}$\n",
    "$$\\theta^* = \\argmin_\\theta Loss(\\theta;G,X)$$\n",
    "\n",
    "To solve this above optimization problem, we use gradient descent, starting with an initial value of $\\theta_0$, we update the weights and biases as follows,\n",
    "$$\\theta^{n+1} = \\theta^{n} - lr\\cdot \\frac{\\partial Loss(\\theta;G,X)}{\\partial \\theta}$$\n",
    "where, $lr$ is the learning rate.\n",
    "\n",
    "We will use the common variant of the gradient descent, Stochastic Gradient Descent."
   ]
  },
  {
   "cell_type": "markdown",
   "id": "531507c7",
   "metadata": {},
   "source": [
    "To train our model, we will split our data into 2 parts i.e. training data and a test data"
   ]
  },
  {
   "cell_type": "code",
   "execution_count": 85,
   "id": "ddefe99d",
   "metadata": {},
   "outputs": [],
   "source": [
    "dset_raw_trn, dset_raw_tst = data_adult.split([0.7], shuffle=True)"
   ]
  },
  {
   "cell_type": "code",
   "execution_count": 86,
   "id": "8129792c",
   "metadata": {},
   "outputs": [],
   "source": [
    "dset_trn_pred = dset_raw_tst.copy(deepcopy=True)"
   ]
  },
  {
   "cell_type": "markdown",
   "id": "5314a322",
   "metadata": {},
   "source": [
    "Taking a look at the fairness metrics for the test data and the proportion of protected group and labels, we get:"
   ]
  },
  {
   "cell_type": "code",
   "execution_count": 87,
   "id": "28e7a673",
   "metadata": {},
   "outputs": [],
   "source": [
    "def plot_prop_prtced_grp_lab(data, title=\"\", figsize=(10,8)):\n",
    "    feature_idx = np.where(np.array(data.feature_names) == data.protected_attribute_names[0])[0][0]\n",
    "    n_p_fav = len(np.where(np.logical_and(data.features[:,feature_idx] == data.privileged_protected_attributes[0],data.labels == data.favorable_label) == True)[0])\n",
    "    n_unp_fav = len(np.where(np.logical_and(data.features[:,feature_idx] == data.unprivileged_protected_attributes[0],data.labels == data.favorable_label) == True)[0])\n",
    "    n_p_unfav = len(np.where(np.logical_and(data.features[:,feature_idx] == data.privileged_protected_attributes[0],data.labels == data.unfavorable_label) == True)[0])\n",
    "    n_unp_unfav = len(np.where(np.logical_and(data.features[:,feature_idx] == data.unprivileged_protected_attributes[0],data.labels == data.unfavorable_label) == True)[0])\n",
    "    plt.figure(figsize=figsize)\n",
    "    xlocs = [i for i in range(4)]\n",
    "    y = [n_p_fav/(n_p_fav+n_p_unfav), n_unp_fav/(n_unp_fav+n_unp_unfav), n_p_unfav/(n_p_fav+n_p_unfav), n_unp_unfav/(n_unp_fav+n_unp_unfav)]\n",
    "    plt.bar(['priv grp,fav label','unpriv grp,fav label', 'priv grp,unfav label', 'unpriv grp,unfav label'], y)\n",
    "    for i, v in enumerate(y):\n",
    "        plt.text(xlocs[i] - 0.05, v + 0.01, str(round(v,2)))\n",
    "    plt.title(title)\n",
    "    plt.show()"
   ]
  },
  {
   "cell_type": "code",
   "execution_count": 88,
   "id": "8127cb19",
   "metadata": {},
   "outputs": [
    {
     "data": {
      "image/png": "[encoded data removed]",
      "text/plain": [
       "<Figure size 720x576 with 1 Axes>"
      ]
     },
     "metadata": {
      "needs_background": "light"
     },
     "output_type": "display_data"
    }
   ],
   "source": [
    "plot_prop_prtced_grp_lab(dset_raw_tst, \"Proportion of Groups and Labels on Test Data\")"
   ]
  },
  {
   "cell_type": "code",
   "execution_count": 89,
   "id": "9c584b86",
   "metadata": {},
   "outputs": [
    {
     "name": "stdout",
     "output_type": "stream",
     "text": [
      "Statistical Parity Difference: -0.2011591902342209\n",
      "Disparate Impact: 0.3404494741177242\n",
      "Consistency: 0.7363679792534046\n"
     ]
    }
   ],
   "source": [
    "dset_raw_tst_metrics = BinaryLabelDatasetMetric(dset_raw_tst,\n",
    "                                      unprivileged_groups=unpriv_group,\n",
    "                                     privileged_groups=priv_group)\n",
    "print(\"Statistical Parity Difference:\",dset_raw_tst_metrics.statistical_parity_difference())\n",
    "print(\"Disparate Impact:\",dset_raw_tst_metrics.disparate_impact())\n",
    "print(\"Consistency:\",dset_raw_tst_metrics.consistency()[0])"
   ]
  },
  {
   "cell_type": "markdown",
   "id": "1aab9155",
   "metadata": {},
   "source": [
    "- **FITTING MODELS**\n",
    "    - Only $L2$ regularization (Model: $M$)\n",
    "    - Equalized Odd & $L2$ Regularization (Model: $M_F$)"
   ]
  },
  {
   "cell_type": "code",
   "execution_count": 90,
   "id": "f13816ba",
   "metadata": {},
   "outputs": [],
   "source": [
    "scaler = StandardScaler()\n",
    "dset_trn = scaler.fit_transform(dset_raw_trn.features)\n",
    "y_trn = dset_raw_trn.labels.ravel()\n",
    "dset_trn = torch.from_numpy(dset_trn).float()\n",
    "y_trn = torch.from_numpy(y_trn).float()\n",
    "y_trn = y_trn.view(y_trn.shape[0], 1)"
   ]
  },
  {
   "cell_type": "code",
   "execution_count": 91,
   "id": "66a0d43d",
   "metadata": {},
   "outputs": [],
   "source": [
    "class Log_Reg(nn.Module):\n",
    "    def __init__(self, size_in):\n",
    "        super().__init__()\n",
    "        self.linear = nn.Linear(size_in, 1)\n",
    "    def forward(self, x):\n",
    "        prob_pred = torch.sigmoid(self.linear(x))\n",
    "        return prob_pred"
   ]
  },
  {
   "cell_type": "code",
   "execution_count": 92,
   "id": "28708317",
   "metadata": {},
   "outputs": [],
   "source": [
    "M = Log_Reg(len(dset_raw_trn.feature_names))\n",
    "M_F = Log_Reg(len(dset_raw_trn.feature_names))"
   ]
  },
  {
   "cell_type": "code",
   "execution_count": 76,
   "id": "6841bb41",
   "metadata": {},
   "outputs": [],
   "source": [
    "num_epochs = 1000\n",
    "learning_rate = 0.01\n",
    "optimizer_M = torch.optim.SGD(M.parameters(), lr= learning_rate)\n",
    "optimizer_M_F = torch.optim.SGD(M_F.parameters(), lr= learning_rate)\n",
    "criterion = nn.BCELoss()\n",
    "criterion_f = nn.BCELoss()"
   ]
  },
  {
   "cell_type": "code",
   "execution_count": null,
   "id": "5b2fbafe",
   "metadata": {},
   "outputs": [],
   "source": [
    "def loss_f(p_pred, y, fpr_diff, fnr_diff, C1=1, C2=1):\n",
    "    return criterion_f(p_pred, y) + C1*fpr_diff + C2*fnr_diff"
   ]
  },
  {
   "cell_type": "code",
   "execution_count": 77,
   "id": "ff671cb4",
   "metadata": {},
   "outputs": [
    {
     "name": "stdout",
     "output_type": "stream",
     "text": [
      "epoch: 100, loss = 0.6181\n",
      "epoch: 200, loss = 0.5518\n",
      "epoch: 300, loss = 0.5133\n",
      "epoch: 400, loss = 0.4894\n",
      "epoch: 500, loss = 0.4737\n",
      "epoch: 600, loss = 0.4628\n",
      "epoch: 700, loss = 0.4549\n",
      "epoch: 800, loss = 0.4490\n",
      "epoch: 900, loss = 0.4446\n",
      "epoch: 1000, loss = 0.4411\n"
     ]
    }
   ],
   "source": [
    "# Training M\n",
    "for epoch in range(num_epochs):\n",
    "    y_pred = M(dset_trn)\n",
    "    loss= criterion(y_pred, y_trn)\n",
    "    \n",
    "    loss.backward()\n",
    "    optimizer_M.step()\n",
    "    \n",
    "    optimizer_M.zero_grad()\n",
    "    \n",
    "    if (epoch+1) % 100== 0:\n",
    "        print(f'epoch: {epoch+1}, loss = {loss.item():.4f}')"
   ]
  },
  {
   "cell_type": "code",
   "execution_count": null,
   "id": "fc2de878",
   "metadata": {},
   "outputs": [],
   "source": [
    "# Training M\n",
    "for epoch in range(num_epochs):\n",
    "    p_pred = M_F(dset_trn)\n",
    "    \n",
    "    dset_trn_pred.labels = (p_pred > 0.5).numpy().astype(float)\n",
    "    mod_metrics = ClassificationMetric(dset_raw_trn, dset_trn_pred,\n",
    "                                            unprivileged_groups=unpriv_group,\n",
    "                                            privileged_groups=priv_group)\n",
    "    \n",
    "    loss= loss_f(p_pred, y_trn, mod_metrics.false_positive_rate_difference() , mod_metrics.false_negative_rate_difference())\n",
    "    \n",
    "    loss.backward()\n",
    "    optimizer_M_F.step()\n",
    "    \n",
    "    optimizer_M_F.zero_grad()\n",
    "    \n",
    "    if (epoch+1) % 100== 0:\n",
    "        print(f'epoch: {epoch+1}, loss = {loss.item():.4f}')"
   ]
  },
  {
   "cell_type": "code",
   "execution_count": 84,
   "id": "affc5e44",
   "metadata": {},
   "outputs": [
    {
     "data": {
      "text/plain": [
       "array([[0.],\n",
       "       [0.],\n",
       "       [0.],\n",
       "       ...,\n",
       "       [0.],\n",
       "       [0.],\n",
       "       [0.]])"
      ]
     },
     "execution_count": 84,
     "metadata": {},
     "output_type": "execute_result"
    }
   ],
   "source": []
  }
 ],
 "metadata": {
  "kernelspec": {
   "display_name": "Python 3",
   "language": "python",
   "name": "python3"
  },
  "language_info": {
   "codemirror_mode": {
    "name": "ipython",
    "version": 3
   },
   "file_extension": ".py",
   "mimetype": "text/x-python",
   "name": "python",
   "nbconvert_exporter": "python",
   "pygments_lexer": "ipython3",
   "version": "3.6.8"
  }
 },
 "nbformat": 4,
 "nbformat_minor": 5
}
